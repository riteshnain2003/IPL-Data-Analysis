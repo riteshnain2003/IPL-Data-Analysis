{
 "cells": [
  {
   "cell_type": "markdown",
   "id": "df9142ce-e720-46b0-9d3e-77822addfd19",
   "metadata": {},
   "source": [
    "# 🔹 B. Player-Level Insights\n"
   ]
  },
  {
   "cell_type": "code",
   "execution_count": 1,
   "id": "c597ce01-41a7-415e-bf2d-b548908f55f6",
   "metadata": {},
   "outputs": [],
   "source": [
    "import numpy as np\n",
    "import pandas as pd\n",
    "import matplotlib.pyplot as plt\n",
    "import seaborn as sns\n"
   ]
  },
  {
   "cell_type": "markdown",
   "id": "9de1b64e-7605-4488-9f50-9c6c27417a00",
   "metadata": {},
   "source": [
    "### Top 10 run-scorers of all time"
   ]
  },
  {
   "cell_type": "code",
   "execution_count": 2,
   "id": "d8b54b75-24a5-4c6f-941c-986088a5a4c8",
   "metadata": {},
   "outputs": [],
   "source": [
    "runs=pd.read_csv(r\"R:\\IPL-DATA-ANALYSIS\\Data\\most_runs_average_strikerate.csv\")"
   ]
  },
  {
   "cell_type": "code",
   "execution_count": 3,
   "id": "c7b12833-2c54-479e-af1b-18c468f278d0",
   "metadata": {},
   "outputs": [
    {
     "data": {
      "text/html": [
       "<div>\n",
       "<style scoped>\n",
       "    .dataframe tbody tr th:only-of-type {\n",
       "        vertical-align: middle;\n",
       "    }\n",
       "\n",
       "    .dataframe tbody tr th {\n",
       "        vertical-align: top;\n",
       "    }\n",
       "\n",
       "    .dataframe thead th {\n",
       "        text-align: right;\n",
       "    }\n",
       "</style>\n",
       "<table border=\"1\" class=\"dataframe\">\n",
       "  <thead>\n",
       "    <tr style=\"text-align: right;\">\n",
       "      <th></th>\n",
       "      <th>batsman</th>\n",
       "      <th>total_runs</th>\n",
       "      <th>out</th>\n",
       "      <th>numberofballs</th>\n",
       "      <th>average</th>\n",
       "      <th>strikerate</th>\n",
       "    </tr>\n",
       "  </thead>\n",
       "  <tbody>\n",
       "    <tr>\n",
       "      <th>0</th>\n",
       "      <td>V Kohli</td>\n",
       "      <td>5426</td>\n",
       "      <td>152</td>\n",
       "      <td>4111</td>\n",
       "      <td>35.697368</td>\n",
       "      <td>131.987351</td>\n",
       "    </tr>\n",
       "    <tr>\n",
       "      <th>1</th>\n",
       "      <td>SK Raina</td>\n",
       "      <td>5386</td>\n",
       "      <td>160</td>\n",
       "      <td>3916</td>\n",
       "      <td>33.662500</td>\n",
       "      <td>137.538304</td>\n",
       "    </tr>\n",
       "    <tr>\n",
       "      <th>2</th>\n",
       "      <td>RG Sharma</td>\n",
       "      <td>4902</td>\n",
       "      <td>161</td>\n",
       "      <td>3742</td>\n",
       "      <td>30.447205</td>\n",
       "      <td>130.999466</td>\n",
       "    </tr>\n",
       "    <tr>\n",
       "      <th>3</th>\n",
       "      <td>DA Warner</td>\n",
       "      <td>4717</td>\n",
       "      <td>114</td>\n",
       "      <td>3292</td>\n",
       "      <td>41.377193</td>\n",
       "      <td>143.286756</td>\n",
       "    </tr>\n",
       "    <tr>\n",
       "      <th>4</th>\n",
       "      <td>S Dhawan</td>\n",
       "      <td>4601</td>\n",
       "      <td>137</td>\n",
       "      <td>3665</td>\n",
       "      <td>33.583942</td>\n",
       "      <td>125.538881</td>\n",
       "    </tr>\n",
       "  </tbody>\n",
       "</table>\n",
       "</div>"
      ],
      "text/plain": [
       "     batsman  total_runs  out  numberofballs    average  strikerate\n",
       "0    V Kohli        5426  152           4111  35.697368  131.987351\n",
       "1   SK Raina        5386  160           3916  33.662500  137.538304\n",
       "2  RG Sharma        4902  161           3742  30.447205  130.999466\n",
       "3  DA Warner        4717  114           3292  41.377193  143.286756\n",
       "4   S Dhawan        4601  137           3665  33.583942  125.538881"
      ]
     },
     "execution_count": 3,
     "metadata": {},
     "output_type": "execute_result"
    }
   ],
   "source": [
    "runs.head()"
   ]
  },
  {
   "cell_type": "code",
   "execution_count": 4,
   "id": "2a670474-b3ac-4b9b-ad4b-2e812edc46a4",
   "metadata": {},
   "outputs": [
    {
     "data": {
      "text/plain": [
       "batsman           0\n",
       "total_runs        0\n",
       "out               0\n",
       "numberofballs     0\n",
       "average          34\n",
       "strikerate        0\n",
       "dtype: int64"
      ]
     },
     "execution_count": 4,
     "metadata": {},
     "output_type": "execute_result"
    }
   ],
   "source": [
    "runs.isnull().sum()"
   ]
  },
  {
   "cell_type": "code",
   "execution_count": 5,
   "id": "297d54fb-6905-4913-87d4-dc2f2e685378",
   "metadata": {},
   "outputs": [],
   "source": [
    "top_ten=runs[[\"batsman\",\"total_runs\"]]"
   ]
  },
  {
   "cell_type": "code",
   "execution_count": 6,
   "id": "a47f4570-794a-47a4-b148-d96f11a40ddc",
   "metadata": {},
   "outputs": [],
   "source": [
    "top_ten=top_ten.sort_values(\"total_runs\",ascending=False)"
   ]
  },
  {
   "cell_type": "code",
   "execution_count": 7,
   "id": "5bd628c8-06da-42db-b265-7681d2821905",
   "metadata": {},
   "outputs": [],
   "source": [
    "top_ten=top_ten.query(\"index <=10\")"
   ]
  },
  {
   "cell_type": "code",
   "execution_count": 8,
   "id": "d46f59a2-3778-4b25-aab1-5115f79f38ba",
   "metadata": {},
   "outputs": [
    {
     "data": {
      "text/html": [
       "<div>\n",
       "<style scoped>\n",
       "    .dataframe tbody tr th:only-of-type {\n",
       "        vertical-align: middle;\n",
       "    }\n",
       "\n",
       "    .dataframe tbody tr th {\n",
       "        vertical-align: top;\n",
       "    }\n",
       "\n",
       "    .dataframe thead th {\n",
       "        text-align: right;\n",
       "    }\n",
       "</style>\n",
       "<table border=\"1\" class=\"dataframe\">\n",
       "  <thead>\n",
       "    <tr style=\"text-align: right;\">\n",
       "      <th></th>\n",
       "      <th>batsman</th>\n",
       "      <th>total_runs</th>\n",
       "    </tr>\n",
       "  </thead>\n",
       "  <tbody>\n",
       "    <tr>\n",
       "      <th>0</th>\n",
       "      <td>V Kohli</td>\n",
       "      <td>5426</td>\n",
       "    </tr>\n",
       "    <tr>\n",
       "      <th>1</th>\n",
       "      <td>SK Raina</td>\n",
       "      <td>5386</td>\n",
       "    </tr>\n",
       "    <tr>\n",
       "      <th>2</th>\n",
       "      <td>RG Sharma</td>\n",
       "      <td>4902</td>\n",
       "    </tr>\n",
       "    <tr>\n",
       "      <th>3</th>\n",
       "      <td>DA Warner</td>\n",
       "      <td>4717</td>\n",
       "    </tr>\n",
       "    <tr>\n",
       "      <th>4</th>\n",
       "      <td>S Dhawan</td>\n",
       "      <td>4601</td>\n",
       "    </tr>\n",
       "    <tr>\n",
       "      <th>5</th>\n",
       "      <td>CH Gayle</td>\n",
       "      <td>4525</td>\n",
       "    </tr>\n",
       "    <tr>\n",
       "      <th>6</th>\n",
       "      <td>MS Dhoni</td>\n",
       "      <td>4450</td>\n",
       "    </tr>\n",
       "    <tr>\n",
       "      <th>7</th>\n",
       "      <td>RV Uthappa</td>\n",
       "      <td>4420</td>\n",
       "    </tr>\n",
       "    <tr>\n",
       "      <th>8</th>\n",
       "      <td>AB de Villiers</td>\n",
       "      <td>4414</td>\n",
       "    </tr>\n",
       "    <tr>\n",
       "      <th>9</th>\n",
       "      <td>G Gambhir</td>\n",
       "      <td>4219</td>\n",
       "    </tr>\n",
       "    <tr>\n",
       "      <th>10</th>\n",
       "      <td>AM Rahane</td>\n",
       "      <td>3834</td>\n",
       "    </tr>\n",
       "  </tbody>\n",
       "</table>\n",
       "</div>"
      ],
      "text/plain": [
       "           batsman  total_runs\n",
       "0          V Kohli        5426\n",
       "1         SK Raina        5386\n",
       "2        RG Sharma        4902\n",
       "3        DA Warner        4717\n",
       "4         S Dhawan        4601\n",
       "5         CH Gayle        4525\n",
       "6         MS Dhoni        4450\n",
       "7       RV Uthappa        4420\n",
       "8   AB de Villiers        4414\n",
       "9        G Gambhir        4219\n",
       "10       AM Rahane        3834"
      ]
     },
     "execution_count": 8,
     "metadata": {},
     "output_type": "execute_result"
    }
   ],
   "source": [
    "top_ten"
   ]
  },
  {
   "cell_type": "code",
   "execution_count": 9,
   "id": "7e7ebe9a-775f-4b57-9341-e56aa980b5ff",
   "metadata": {},
   "outputs": [
    {
     "data": {
      "image/png": "[encoded data removed]",
      "text/plain": [
       "<Figure size 1200x800 with 1 Axes>"
      ]
     },
     "metadata": {},
     "output_type": "display_data"
    }
   ],
   "source": [
    "# plot\n",
    "plt.figure(figsize=(12,8))\n",
    "sns.set_style(\"whitegrid\")\n",
    "colors=sns.color_palette(\"Set3\")\n",
    "\n",
    "sns.barplot(y=\"batsman\",x=\"total_runs\",data=top_ten,palette=colors[:11],hue=\"batsman\",edgecolor=\"black\")\n",
    "\n",
    "for i in top_ten.index:\n",
    "    plt.text(top_ten[\"total_runs\"][i]+90,i,f\"{top_ten['total_runs'][i]}\",fontweight=600,fontsize=14)\n",
    "plt.title(\"Top 10 run-scorers of all time\",fontweight=900,fontsize=15)\n",
    "plt.xlabel(\"Runs\",fontweight=\"bold\",fontsize=12)\n",
    "plt.ylabel(\"Batsman\",fontweight=\"bold\",fontsize=12)\n",
    "plt.xticks(fontweight=\"bold\",fontsize=12)\n",
    "plt.yticks(fontweight=\"bold\")\n",
    "plt.tight_layout()\n",
    "plt.savefig(\"plots/top_ten_batsman.jpg\",dpi=300)\n",
    "plt.show()\n",
    "\n"
   ]
  },
  {
   "cell_type": "markdown",
   "id": "29a34818-47c7-4eb2-81c5-fab2055289ad",
   "metadata": {},
   "source": [
    "### Top 10 batsmen with most 4s and 6s"
   ]
  },
  {
   "cell_type": "code",
   "execution_count": 10,
   "id": "118bf429-89f5-4a67-94ce-03d1a6a89727",
   "metadata": {},
   "outputs": [],
   "source": [
    "df=pd.read_csv(r\"R:\\IPL-DATA-ANALYSIS\\Data\\deliveries.csv\",usecols=[\"batsman\",\"batsman_runs\"])"
   ]
  },
  {
   "cell_type": "code",
   "execution_count": 11,
   "id": "11bbf84c-0e4e-4147-8fbf-c91ada1d429c",
   "metadata": {},
   "outputs": [
    {
     "data": {
      "text/html": [
       "<div>\n",
       "<style scoped>\n",
       "    .dataframe tbody tr th:only-of-type {\n",
       "        vertical-align: middle;\n",
       "    }\n",
       "\n",
       "    .dataframe tbody tr th {\n",
       "        vertical-align: top;\n",
       "    }\n",
       "\n",
       "    .dataframe thead th {\n",
       "        text-align: right;\n",
       "    }\n",
       "</style>\n",
       "<table border=\"1\" class=\"dataframe\">\n",
       "  <thead>\n",
       "    <tr style=\"text-align: right;\">\n",
       "      <th></th>\n",
       "      <th>batsman</th>\n",
       "      <th>batsman_runs</th>\n",
       "    </tr>\n",
       "  </thead>\n",
       "  <tbody>\n",
       "    <tr>\n",
       "      <th>0</th>\n",
       "      <td>DA Warner</td>\n",
       "      <td>0</td>\n",
       "    </tr>\n",
       "    <tr>\n",
       "      <th>1</th>\n",
       "      <td>DA Warner</td>\n",
       "      <td>0</td>\n",
       "    </tr>\n",
       "    <tr>\n",
       "      <th>2</th>\n",
       "      <td>DA Warner</td>\n",
       "      <td>4</td>\n",
       "    </tr>\n",
       "    <tr>\n",
       "      <th>3</th>\n",
       "      <td>DA Warner</td>\n",
       "      <td>0</td>\n",
       "    </tr>\n",
       "    <tr>\n",
       "      <th>4</th>\n",
       "      <td>DA Warner</td>\n",
       "      <td>0</td>\n",
       "    </tr>\n",
       "  </tbody>\n",
       "</table>\n",
       "</div>"
      ],
      "text/plain": [
       "     batsman  batsman_runs\n",
       "0  DA Warner             0\n",
       "1  DA Warner             0\n",
       "2  DA Warner             4\n",
       "3  DA Warner             0\n",
       "4  DA Warner             0"
      ]
     },
     "execution_count": 11,
     "metadata": {},
     "output_type": "execute_result"
    }
   ],
   "source": [
    "df.head()"
   ]
  },
  {
   "cell_type": "code",
   "execution_count": 12,
   "id": "1eaa48b0-d189-41b6-9e48-f7423d1f3908",
   "metadata": {},
   "outputs": [
    {
     "data": {
      "text/html": [
       "<div>\n",
       "<style scoped>\n",
       "    .dataframe tbody tr th:only-of-type {\n",
       "        vertical-align: middle;\n",
       "    }\n",
       "\n",
       "    .dataframe tbody tr th {\n",
       "        vertical-align: top;\n",
       "    }\n",
       "\n",
       "    .dataframe thead th {\n",
       "        text-align: right;\n",
       "    }\n",
       "</style>\n",
       "<table border=\"1\" class=\"dataframe\">\n",
       "  <thead>\n",
       "    <tr style=\"text-align: right;\">\n",
       "      <th></th>\n",
       "      <th>batsman</th>\n",
       "      <th>batsman_runs</th>\n",
       "    </tr>\n",
       "  </thead>\n",
       "  <tbody>\n",
       "    <tr>\n",
       "      <th>179073</th>\n",
       "      <td>RA Jadeja</td>\n",
       "      <td>1</td>\n",
       "    </tr>\n",
       "    <tr>\n",
       "      <th>179074</th>\n",
       "      <td>SR Watson</td>\n",
       "      <td>2</td>\n",
       "    </tr>\n",
       "    <tr>\n",
       "      <th>179075</th>\n",
       "      <td>SR Watson</td>\n",
       "      <td>1</td>\n",
       "    </tr>\n",
       "    <tr>\n",
       "      <th>179076</th>\n",
       "      <td>SN Thakur</td>\n",
       "      <td>2</td>\n",
       "    </tr>\n",
       "    <tr>\n",
       "      <th>179077</th>\n",
       "      <td>SN Thakur</td>\n",
       "      <td>0</td>\n",
       "    </tr>\n",
       "  </tbody>\n",
       "</table>\n",
       "</div>"
      ],
      "text/plain": [
       "          batsman  batsman_runs\n",
       "179073  RA Jadeja             1\n",
       "179074  SR Watson             2\n",
       "179075  SR Watson             1\n",
       "179076  SN Thakur             2\n",
       "179077  SN Thakur             0"
      ]
     },
     "execution_count": 12,
     "metadata": {},
     "output_type": "execute_result"
    }
   ],
   "source": [
    "df.tail()"
   ]
  },
  {
   "cell_type": "code",
   "execution_count": 13,
   "id": "cf446663-08eb-40cf-91fd-55ae4d3a2039",
   "metadata": {},
   "outputs": [
    {
     "data": {
      "text/plain": [
       "(179078, 2)"
      ]
     },
     "execution_count": 13,
     "metadata": {},
     "output_type": "execute_result"
    }
   ],
   "source": [
    "df.shape"
   ]
  },
  {
   "cell_type": "code",
   "execution_count": 14,
   "id": "ae1a0008-38b8-4c6b-8598-6dd70ee2f3a4",
   "metadata": {},
   "outputs": [
    {
     "data": {
      "text/plain": [
       "batsman         0\n",
       "batsman_runs    0\n",
       "dtype: int64"
      ]
     },
     "execution_count": 14,
     "metadata": {},
     "output_type": "execute_result"
    }
   ],
   "source": [
    "df.isnull().sum()"
   ]
  },
  {
   "cell_type": "code",
   "execution_count": 15,
   "id": "da9c67df-76fd-42ad-8a1f-4145d1f069d1",
   "metadata": {},
   "outputs": [
    {
     "name": "stdout",
     "output_type": "stream",
     "text": [
      "<class 'pandas.core.frame.DataFrame'>\n",
      "RangeIndex: 179078 entries, 0 to 179077\n",
      "Data columns (total 2 columns):\n",
      " #   Column        Non-Null Count   Dtype \n",
      "---  ------        --------------   ----- \n",
      " 0   batsman       179078 non-null  object\n",
      " 1   batsman_runs  179078 non-null  int64 \n",
      "dtypes: int64(1), object(1)\n",
      "memory usage: 2.7+ MB\n"
     ]
    }
   ],
   "source": [
    "df.info()"
   ]
  },
  {
   "cell_type": "code",
   "execution_count": 16,
   "id": "e11453bd-c794-4cc7-acf5-7aecc9d1228c",
   "metadata": {},
   "outputs": [],
   "source": [
    "df=df.query(\"batsman_runs == 4 or batsman_runs ==6\")"
   ]
  },
  {
   "cell_type": "code",
   "execution_count": 17,
   "id": "4cc445b8-9e73-43ea-ad8d-6f34e94ef737",
   "metadata": {},
   "outputs": [],
   "source": [
    "df.reset_index(drop=True,inplace=True)"
   ]
  },
  {
   "cell_type": "code",
   "execution_count": 18,
   "id": "33a69dfc-c2e6-4138-bae1-d5ac8e17ada0",
   "metadata": {},
   "outputs": [
    {
     "data": {
      "text/html": [
       "<div>\n",
       "<style scoped>\n",
       "    .dataframe tbody tr th:only-of-type {\n",
       "        vertical-align: middle;\n",
       "    }\n",
       "\n",
       "    .dataframe tbody tr th {\n",
       "        vertical-align: top;\n",
       "    }\n",
       "\n",
       "    .dataframe thead th {\n",
       "        text-align: right;\n",
       "    }\n",
       "</style>\n",
       "<table border=\"1\" class=\"dataframe\">\n",
       "  <thead>\n",
       "    <tr style=\"text-align: right;\">\n",
       "      <th></th>\n",
       "      <th>batsman</th>\n",
       "      <th>batsman_runs</th>\n",
       "    </tr>\n",
       "  </thead>\n",
       "  <tbody>\n",
       "    <tr>\n",
       "      <th>0</th>\n",
       "      <td>DA Warner</td>\n",
       "      <td>4</td>\n",
       "    </tr>\n",
       "    <tr>\n",
       "      <th>1</th>\n",
       "      <td>DA Warner</td>\n",
       "      <td>4</td>\n",
       "    </tr>\n",
       "    <tr>\n",
       "      <th>2</th>\n",
       "      <td>DA Warner</td>\n",
       "      <td>6</td>\n",
       "    </tr>\n",
       "    <tr>\n",
       "      <th>3</th>\n",
       "      <td>MC Henriques</td>\n",
       "      <td>4</td>\n",
       "    </tr>\n",
       "    <tr>\n",
       "      <th>4</th>\n",
       "      <td>MC Henriques</td>\n",
       "      <td>4</td>\n",
       "    </tr>\n",
       "    <tr>\n",
       "      <th>...</th>\n",
       "      <td>...</td>\n",
       "      <td>...</td>\n",
       "    </tr>\n",
       "    <tr>\n",
       "      <th>28557</th>\n",
       "      <td>SR Watson</td>\n",
       "      <td>4</td>\n",
       "    </tr>\n",
       "    <tr>\n",
       "      <th>28558</th>\n",
       "      <td>SR Watson</td>\n",
       "      <td>6</td>\n",
       "    </tr>\n",
       "    <tr>\n",
       "      <th>28559</th>\n",
       "      <td>SR Watson</td>\n",
       "      <td>6</td>\n",
       "    </tr>\n",
       "    <tr>\n",
       "      <th>28560</th>\n",
       "      <td>SR Watson</td>\n",
       "      <td>6</td>\n",
       "    </tr>\n",
       "    <tr>\n",
       "      <th>28561</th>\n",
       "      <td>RA Jadeja</td>\n",
       "      <td>4</td>\n",
       "    </tr>\n",
       "  </tbody>\n",
       "</table>\n",
       "<p>28562 rows × 2 columns</p>\n",
       "</div>"
      ],
      "text/plain": [
       "            batsman  batsman_runs\n",
       "0         DA Warner             4\n",
       "1         DA Warner             4\n",
       "2         DA Warner             6\n",
       "3      MC Henriques             4\n",
       "4      MC Henriques             4\n",
       "...             ...           ...\n",
       "28557     SR Watson             4\n",
       "28558     SR Watson             6\n",
       "28559     SR Watson             6\n",
       "28560     SR Watson             6\n",
       "28561     RA Jadeja             4\n",
       "\n",
       "[28562 rows x 2 columns]"
      ]
     },
     "execution_count": 18,
     "metadata": {},
     "output_type": "execute_result"
    }
   ],
   "source": [
    "df"
   ]
  },
  {
   "cell_type": "code",
   "execution_count": 19,
   "id": "16175b78-3735-4585-bf63-f1c06f279dce",
   "metadata": {},
   "outputs": [],
   "source": [
    "df=df.groupby(\"batsman\")[\"batsman\"].count().reset_index(name=\"boundary\")"
   ]
  },
  {
   "cell_type": "code",
   "execution_count": 20,
   "id": "0d3ba630-60cb-4d74-b8b7-6b313115780f",
   "metadata": {},
   "outputs": [],
   "source": [
    "df=df.sort_values(\"boundary\",ascending=False)"
   ]
  },
  {
   "cell_type": "code",
   "execution_count": 21,
   "id": "dfb10341-84be-4dae-96e0-2c38f69733fb",
   "metadata": {},
   "outputs": [
    {
     "data": {
      "text/html": [
       "<div>\n",
       "<style scoped>\n",
       "    .dataframe tbody tr th:only-of-type {\n",
       "        vertical-align: middle;\n",
       "    }\n",
       "\n",
       "    .dataframe tbody tr th {\n",
       "        vertical-align: top;\n",
       "    }\n",
       "\n",
       "    .dataframe thead th {\n",
       "        text-align: right;\n",
       "    }\n",
       "</style>\n",
       "<table border=\"1\" class=\"dataframe\">\n",
       "  <thead>\n",
       "    <tr style=\"text-align: right;\">\n",
       "      <th></th>\n",
       "      <th>batsman</th>\n",
       "      <th>boundary</th>\n",
       "    </tr>\n",
       "  </thead>\n",
       "  <tbody>\n",
       "    <tr>\n",
       "      <th>0</th>\n",
       "      <td>CH Gayle</td>\n",
       "      <td>703</td>\n",
       "    </tr>\n",
       "    <tr>\n",
       "      <th>1</th>\n",
       "      <td>SK Raina</td>\n",
       "      <td>690</td>\n",
       "    </tr>\n",
       "    <tr>\n",
       "      <th>2</th>\n",
       "      <td>V Kohli</td>\n",
       "      <td>673</td>\n",
       "    </tr>\n",
       "    <tr>\n",
       "      <th>3</th>\n",
       "      <td>DA Warner</td>\n",
       "      <td>640</td>\n",
       "    </tr>\n",
       "    <tr>\n",
       "      <th>4</th>\n",
       "      <td>RG Sharma</td>\n",
       "      <td>625</td>\n",
       "    </tr>\n",
       "    <tr>\n",
       "      <th>...</th>\n",
       "      <td>...</td>\n",
       "      <td>...</td>\n",
       "    </tr>\n",
       "    <tr>\n",
       "      <th>419</th>\n",
       "      <td>S Sharma</td>\n",
       "      <td>1</td>\n",
       "    </tr>\n",
       "    <tr>\n",
       "      <th>420</th>\n",
       "      <td>Shivam Sharma</td>\n",
       "      <td>1</td>\n",
       "    </tr>\n",
       "    <tr>\n",
       "      <th>421</th>\n",
       "      <td>Sandeep Sharma</td>\n",
       "      <td>1</td>\n",
       "    </tr>\n",
       "    <tr>\n",
       "      <th>422</th>\n",
       "      <td>A Mukund</td>\n",
       "      <td>1</td>\n",
       "    </tr>\n",
       "    <tr>\n",
       "      <th>423</th>\n",
       "      <td>T Henderson</td>\n",
       "      <td>1</td>\n",
       "    </tr>\n",
       "  </tbody>\n",
       "</table>\n",
       "<p>424 rows × 2 columns</p>\n",
       "</div>"
      ],
      "text/plain": [
       "            batsman  boundary\n",
       "0          CH Gayle       703\n",
       "1          SK Raina       690\n",
       "2           V Kohli       673\n",
       "3         DA Warner       640\n",
       "4         RG Sharma       625\n",
       "..              ...       ...\n",
       "419        S Sharma         1\n",
       "420   Shivam Sharma         1\n",
       "421  Sandeep Sharma         1\n",
       "422        A Mukund         1\n",
       "423     T Henderson         1\n",
       "\n",
       "[424 rows x 2 columns]"
      ]
     },
     "execution_count": 21,
     "metadata": {},
     "output_type": "execute_result"
    }
   ],
   "source": [
    "df.reset_index(drop=True)"
   ]
  },
  {
   "cell_type": "code",
   "execution_count": 22,
   "id": "de976ed3-6688-4d5b-8325-e6e7a807e47f",
   "metadata": {},
   "outputs": [],
   "source": [
    "top_ten=df.iloc[0:10,0:2]"
   ]
  },
  {
   "cell_type": "code",
   "execution_count": 23,
   "id": "3ca3850d-c803-49cb-91b9-a7474f0d3f90",
   "metadata": {},
   "outputs": [
    {
     "data": {
      "text/html": [
       "<div>\n",
       "<style scoped>\n",
       "    .dataframe tbody tr th:only-of-type {\n",
       "        vertical-align: middle;\n",
       "    }\n",
       "\n",
       "    .dataframe tbody tr th {\n",
       "        vertical-align: top;\n",
       "    }\n",
       "\n",
       "    .dataframe thead th {\n",
       "        text-align: right;\n",
       "    }\n",
       "</style>\n",
       "<table border=\"1\" class=\"dataframe\">\n",
       "  <thead>\n",
       "    <tr style=\"text-align: right;\">\n",
       "      <th></th>\n",
       "      <th>batsman</th>\n",
       "      <th>boundary</th>\n",
       "    </tr>\n",
       "  </thead>\n",
       "  <tbody>\n",
       "    <tr>\n",
       "      <th>79</th>\n",
       "      <td>CH Gayle</td>\n",
       "      <td>703</td>\n",
       "    </tr>\n",
       "    <tr>\n",
       "      <th>353</th>\n",
       "      <td>SK Raina</td>\n",
       "      <td>690</td>\n",
       "    </tr>\n",
       "    <tr>\n",
       "      <th>401</th>\n",
       "      <td>V Kohli</td>\n",
       "      <td>673</td>\n",
       "    </tr>\n",
       "    <tr>\n",
       "      <th>93</th>\n",
       "      <td>DA Warner</td>\n",
       "      <td>640</td>\n",
       "    </tr>\n",
       "    <tr>\n",
       "      <th>305</th>\n",
       "      <td>RG Sharma</td>\n",
       "      <td>625</td>\n",
       "    </tr>\n",
       "    <tr>\n",
       "      <th>327</th>\n",
       "      <td>S Dhawan</td>\n",
       "      <td>622</td>\n",
       "    </tr>\n",
       "    <tr>\n",
       "      <th>320</th>\n",
       "      <td>RV Uthappa</td>\n",
       "      <td>592</td>\n",
       "    </tr>\n",
       "    <tr>\n",
       "      <th>21</th>\n",
       "      <td>AB de Villiers</td>\n",
       "      <td>571</td>\n",
       "    </tr>\n",
       "    <tr>\n",
       "      <th>124</th>\n",
       "      <td>G Gambhir</td>\n",
       "      <td>551</td>\n",
       "    </tr>\n",
       "    <tr>\n",
       "      <th>367</th>\n",
       "      <td>SR Watson</td>\n",
       "      <td>521</td>\n",
       "    </tr>\n",
       "  </tbody>\n",
       "</table>\n",
       "</div>"
      ],
      "text/plain": [
       "            batsman  boundary\n",
       "79         CH Gayle       703\n",
       "353        SK Raina       690\n",
       "401         V Kohli       673\n",
       "93        DA Warner       640\n",
       "305       RG Sharma       625\n",
       "327        S Dhawan       622\n",
       "320      RV Uthappa       592\n",
       "21   AB de Villiers       571\n",
       "124       G Gambhir       551\n",
       "367       SR Watson       521"
      ]
     },
     "execution_count": 23,
     "metadata": {},
     "output_type": "execute_result"
    }
   ],
   "source": [
    "top_ten"
   ]
  },
  {
   "cell_type": "code",
   "execution_count": 24,
   "id": "3ec1ee4e-0bb7-47b6-a768-4acd6eb01bde",
   "metadata": {},
   "outputs": [],
   "source": [
    "top_ten.reset_index(drop=True,inplace=True)"
   ]
  },
  {
   "cell_type": "code",
   "execution_count": 25,
   "id": "3b4e288b-ab61-45d8-880e-ffc787de2800",
   "metadata": {},
   "outputs": [
    {
     "data": {
      "text/plain": [
       "RangeIndex(start=0, stop=10, step=1)"
      ]
     },
     "execution_count": 25,
     "metadata": {},
     "output_type": "execute_result"
    }
   ],
   "source": [
    "top_ten.index"
   ]
  },
  {
   "cell_type": "code",
   "execution_count": 26,
   "id": "f60675bc-4c45-4353-b46b-6c8a268a7701",
   "metadata": {},
   "outputs": [
    {
     "data": {
      "image/png": "[encoded data removed]",
      "text/plain": [
       "<Figure size 1200x800 with 1 Axes>"
      ]
     },
     "metadata": {},
     "output_type": "display_data"
    }
   ],
   "source": [
    "# plot\n",
    "plt.figure(figsize=[12,8])\n",
    "\n",
    "sns.set_style(\"whitegrid\")\n",
    "colors = [\n",
    "    \"#e41a1c\",  # red\n",
    "    \"#377eb8\",  # blue\n",
    "    \"#4daf4a\",  # green\n",
    "    \"#984ea3\",  # purple\n",
    "    \"#ff7f00\",  # orange\n",
    "    \"#ffff33\",  # yellow\n",
    "    \"#a65628\",  # brown\n",
    "    \"#f781bf\",  # pink\n",
    "    \"#999999\",  # gray\n",
    "    \"#66c2a5\"   # teal\n",
    "]\n",
    "\n",
    "\n",
    "sns.barplot(x=\"boundary\", y=\"batsman\", data=top_ten, palette=colors,hue=\"batsman\")\n",
    "\n",
    "# Fix here: use range instead of index\n",
    "for i in range(len(top_ten[\"batsman\"])):\n",
    "    plt.text(top_ten[\"boundary\"][i]+5, i, f\"{top_ten['boundary'][i]}\", va='center', fontweight='bold')\n",
    "\n",
    "plt.title(\"Top 10 batsmen with most 4s and 6s\", fontsize=15, fontweight=700)\n",
    "plt.xlabel(\"Values\", fontsize=19, fontweight=500)\n",
    "plt.ylabel(\"Batsman\", fontsize=18, fontweight=500)\n",
    "plt.xticks(fontweight=\"bold\")\n",
    "plt.yticks(fontweight=\"bold\")\n",
    "plt.savefig(\"plots/topten_boundary\",dpi=300)\n",
    "\n",
    "\n",
    "plt.show()\n"
   ]
  },
  {
   "cell_type": "markdown",
   "id": "51e17aff-f5f0-4f39-85df-6faa0676f4e0",
   "metadata": {},
   "source": [
    "### Top 10 bowlers with most wickets"
   ]
  },
  {
   "cell_type": "code",
   "execution_count": 27,
   "id": "d468ea28-c3df-423e-b14a-4029c274aa95",
   "metadata": {},
   "outputs": [],
   "source": [
    "bowler_data=pd.read_csv(r\"R:\\IPL-DATA-ANALYSIS\\Data\\deliveries.csv\",usecols=[\"bowler\",\"player_dismissed\"])"
   ]
  },
  {
   "cell_type": "code",
   "execution_count": 28,
   "id": "8a9900a3-5a0a-419d-ae4b-4d6ee6d57c6f",
   "metadata": {},
   "outputs": [
    {
     "data": {
      "text/html": [
       "<div>\n",
       "<style scoped>\n",
       "    .dataframe tbody tr th:only-of-type {\n",
       "        vertical-align: middle;\n",
       "    }\n",
       "\n",
       "    .dataframe tbody tr th {\n",
       "        vertical-align: top;\n",
       "    }\n",
       "\n",
       "    .dataframe thead th {\n",
       "        text-align: right;\n",
       "    }\n",
       "</style>\n",
       "<table border=\"1\" class=\"dataframe\">\n",
       "  <thead>\n",
       "    <tr style=\"text-align: right;\">\n",
       "      <th></th>\n",
       "      <th>bowler</th>\n",
       "      <th>player_dismissed</th>\n",
       "    </tr>\n",
       "  </thead>\n",
       "  <tbody>\n",
       "    <tr>\n",
       "      <th>0</th>\n",
       "      <td>TS Mills</td>\n",
       "      <td>NaN</td>\n",
       "    </tr>\n",
       "    <tr>\n",
       "      <th>1</th>\n",
       "      <td>TS Mills</td>\n",
       "      <td>NaN</td>\n",
       "    </tr>\n",
       "    <tr>\n",
       "      <th>2</th>\n",
       "      <td>TS Mills</td>\n",
       "      <td>NaN</td>\n",
       "    </tr>\n",
       "    <tr>\n",
       "      <th>3</th>\n",
       "      <td>TS Mills</td>\n",
       "      <td>NaN</td>\n",
       "    </tr>\n",
       "    <tr>\n",
       "      <th>4</th>\n",
       "      <td>TS Mills</td>\n",
       "      <td>NaN</td>\n",
       "    </tr>\n",
       "  </tbody>\n",
       "</table>\n",
       "</div>"
      ],
      "text/plain": [
       "     bowler player_dismissed\n",
       "0  TS Mills              NaN\n",
       "1  TS Mills              NaN\n",
       "2  TS Mills              NaN\n",
       "3  TS Mills              NaN\n",
       "4  TS Mills              NaN"
      ]
     },
     "execution_count": 28,
     "metadata": {},
     "output_type": "execute_result"
    }
   ],
   "source": [
    "bowler_data.head()"
   ]
  },
  {
   "cell_type": "code",
   "execution_count": 29,
   "id": "4ef0464d-5254-4d99-89a2-af9095e2e652",
   "metadata": {},
   "outputs": [
    {
     "data": {
      "text/plain": [
       "bowler                   0\n",
       "player_dismissed    170244\n",
       "dtype: int64"
      ]
     },
     "execution_count": 29,
     "metadata": {},
     "output_type": "execute_result"
    }
   ],
   "source": [
    "bowler_data.isnull().sum()"
   ]
  },
  {
   "cell_type": "code",
   "execution_count": 30,
   "id": "3b8cae82-d45a-4843-b6a5-2daf06a46e80",
   "metadata": {},
   "outputs": [],
   "source": [
    "bowler_data=bowler_data.dropna()"
   ]
  },
  {
   "cell_type": "code",
   "execution_count": 31,
   "id": "87f499d4-80fb-4227-992d-4385f1f719ce",
   "metadata": {},
   "outputs": [
    {
     "data": {
      "text/plain": [
       "bowler              0\n",
       "player_dismissed    0\n",
       "dtype: int64"
      ]
     },
     "execution_count": 31,
     "metadata": {},
     "output_type": "execute_result"
    }
   ],
   "source": [
    "bowler_data.isnull().sum()"
   ]
  },
  {
   "cell_type": "code",
   "execution_count": 32,
   "id": "3fc35bf9-2e40-4977-9eb7-9992bd2dd9b4",
   "metadata": {},
   "outputs": [
    {
     "data": {
      "text/html": [
       "<div>\n",
       "<style scoped>\n",
       "    .dataframe tbody tr th:only-of-type {\n",
       "        vertical-align: middle;\n",
       "    }\n",
       "\n",
       "    .dataframe tbody tr th {\n",
       "        vertical-align: top;\n",
       "    }\n",
       "\n",
       "    .dataframe thead th {\n",
       "        text-align: right;\n",
       "    }\n",
       "</style>\n",
       "<table border=\"1\" class=\"dataframe\">\n",
       "  <thead>\n",
       "    <tr style=\"text-align: right;\">\n",
       "      <th></th>\n",
       "      <th>bowler</th>\n",
       "      <th>player_dismissed</th>\n",
       "    </tr>\n",
       "  </thead>\n",
       "  <tbody>\n",
       "    <tr>\n",
       "      <th>11</th>\n",
       "      <td>A Choudhary</td>\n",
       "      <td>DA Warner</td>\n",
       "    </tr>\n",
       "    <tr>\n",
       "      <th>64</th>\n",
       "      <td>STR Binny</td>\n",
       "      <td>S Dhawan</td>\n",
       "    </tr>\n",
       "    <tr>\n",
       "      <th>94</th>\n",
       "      <td>YS Chahal</td>\n",
       "      <td>MC Henriques</td>\n",
       "    </tr>\n",
       "    <tr>\n",
       "      <th>116</th>\n",
       "      <td>TS Mills</td>\n",
       "      <td>Yuvraj Singh</td>\n",
       "    </tr>\n",
       "    <tr>\n",
       "      <th>160</th>\n",
       "      <td>Rashid Khan</td>\n",
       "      <td>Mandeep Singh</td>\n",
       "    </tr>\n",
       "  </tbody>\n",
       "</table>\n",
       "</div>"
      ],
      "text/plain": [
       "          bowler player_dismissed\n",
       "11   A Choudhary        DA Warner\n",
       "64     STR Binny         S Dhawan\n",
       "94     YS Chahal     MC Henriques\n",
       "116     TS Mills     Yuvraj Singh\n",
       "160  Rashid Khan    Mandeep Singh"
      ]
     },
     "execution_count": 32,
     "metadata": {},
     "output_type": "execute_result"
    }
   ],
   "source": [
    "bowler_data.head()"
   ]
  },
  {
   "cell_type": "code",
   "execution_count": 33,
   "id": "1c3a4f35-17d8-42e9-88f8-44f3e51b569b",
   "metadata": {},
   "outputs": [
    {
     "data": {
      "text/html": [
       "<div>\n",
       "<style scoped>\n",
       "    .dataframe tbody tr th:only-of-type {\n",
       "        vertical-align: middle;\n",
       "    }\n",
       "\n",
       "    .dataframe tbody tr th {\n",
       "        vertical-align: top;\n",
       "    }\n",
       "\n",
       "    .dataframe thead th {\n",
       "        text-align: right;\n",
       "    }\n",
       "</style>\n",
       "<table border=\"1\" class=\"dataframe\">\n",
       "  <thead>\n",
       "    <tr style=\"text-align: right;\">\n",
       "      <th></th>\n",
       "      <th>bowler</th>\n",
       "      <th>wickets</th>\n",
       "    </tr>\n",
       "  </thead>\n",
       "  <tbody>\n",
       "    <tr>\n",
       "      <th>0</th>\n",
       "      <td>A Ashish Reddy</td>\n",
       "      <td>19</td>\n",
       "    </tr>\n",
       "    <tr>\n",
       "      <th>1</th>\n",
       "      <td>A Chandila</td>\n",
       "      <td>11</td>\n",
       "    </tr>\n",
       "    <tr>\n",
       "      <th>2</th>\n",
       "      <td>A Choudhary</td>\n",
       "      <td>5</td>\n",
       "    </tr>\n",
       "    <tr>\n",
       "      <th>3</th>\n",
       "      <td>A Flintoff</td>\n",
       "      <td>2</td>\n",
       "    </tr>\n",
       "    <tr>\n",
       "      <th>4</th>\n",
       "      <td>A Joseph</td>\n",
       "      <td>6</td>\n",
       "    </tr>\n",
       "    <tr>\n",
       "      <th>...</th>\n",
       "      <td>...</td>\n",
       "      <td>...</td>\n",
       "    </tr>\n",
       "    <tr>\n",
       "      <th>347</th>\n",
       "      <td>YA Abdulla</td>\n",
       "      <td>15</td>\n",
       "    </tr>\n",
       "    <tr>\n",
       "      <th>348</th>\n",
       "      <td>YK Pathan</td>\n",
       "      <td>46</td>\n",
       "    </tr>\n",
       "    <tr>\n",
       "      <th>349</th>\n",
       "      <td>YS Chahal</td>\n",
       "      <td>102</td>\n",
       "    </tr>\n",
       "    <tr>\n",
       "      <th>350</th>\n",
       "      <td>Yuvraj Singh</td>\n",
       "      <td>39</td>\n",
       "    </tr>\n",
       "    <tr>\n",
       "      <th>351</th>\n",
       "      <td>Z Khan</td>\n",
       "      <td>119</td>\n",
       "    </tr>\n",
       "  </tbody>\n",
       "</table>\n",
       "<p>352 rows × 2 columns</p>\n",
       "</div>"
      ],
      "text/plain": [
       "             bowler  wickets\n",
       "0    A Ashish Reddy       19\n",
       "1        A Chandila       11\n",
       "2       A Choudhary        5\n",
       "3        A Flintoff        2\n",
       "4          A Joseph        6\n",
       "..              ...      ...\n",
       "347      YA Abdulla       15\n",
       "348       YK Pathan       46\n",
       "349       YS Chahal      102\n",
       "350    Yuvraj Singh       39\n",
       "351          Z Khan      119\n",
       "\n",
       "[352 rows x 2 columns]"
      ]
     },
     "execution_count": 33,
     "metadata": {},
     "output_type": "execute_result"
    }
   ],
   "source": [
    "bowler=bowler_data.groupby(\"bowler\")[\"bowler\"].count().reset_index(name=\"wickets\")\n",
    "bowler"
   ]
  },
  {
   "cell_type": "code",
   "execution_count": 34,
   "id": "33ec4127-4ebc-4164-b899-e40ccf5c9931",
   "metadata": {},
   "outputs": [
    {
     "data": {
      "text/plain": [
       "Index(['bowler', 'wickets'], dtype='object')"
      ]
     },
     "execution_count": 34,
     "metadata": {},
     "output_type": "execute_result"
    }
   ],
   "source": [
    "bowler.columns"
   ]
  },
  {
   "cell_type": "code",
   "execution_count": 35,
   "id": "c60da5cb-f0fd-4fe9-b522-337ca48c0d0c",
   "metadata": {},
   "outputs": [
    {
     "data": {
      "text/plain": [
       "RangeIndex(start=0, stop=352, step=1)"
      ]
     },
     "execution_count": 35,
     "metadata": {},
     "output_type": "execute_result"
    }
   ],
   "source": [
    "bowler.index"
   ]
  },
  {
   "cell_type": "code",
   "execution_count": 36,
   "id": "41ca90c1-f984-4a98-ad04-1875855b648c",
   "metadata": {},
   "outputs": [
    {
     "data": {
      "text/html": [
       "<div>\n",
       "<style scoped>\n",
       "    .dataframe tbody tr th:only-of-type {\n",
       "        vertical-align: middle;\n",
       "    }\n",
       "\n",
       "    .dataframe tbody tr th {\n",
       "        vertical-align: top;\n",
       "    }\n",
       "\n",
       "    .dataframe thead th {\n",
       "        text-align: right;\n",
       "    }\n",
       "</style>\n",
       "<table border=\"1\" class=\"dataframe\">\n",
       "  <thead>\n",
       "    <tr style=\"text-align: right;\">\n",
       "      <th></th>\n",
       "      <th>bowler</th>\n",
       "      <th>wickets</th>\n",
       "    </tr>\n",
       "  </thead>\n",
       "  <tbody>\n",
       "    <tr>\n",
       "      <th>0</th>\n",
       "      <td>SL Malinga</td>\n",
       "      <td>188</td>\n",
       "    </tr>\n",
       "    <tr>\n",
       "      <th>1</th>\n",
       "      <td>DJ Bravo</td>\n",
       "      <td>168</td>\n",
       "    </tr>\n",
       "    <tr>\n",
       "      <th>2</th>\n",
       "      <td>A Mishra</td>\n",
       "      <td>165</td>\n",
       "    </tr>\n",
       "    <tr>\n",
       "      <th>3</th>\n",
       "      <td>Harbhajan Singh</td>\n",
       "      <td>161</td>\n",
       "    </tr>\n",
       "    <tr>\n",
       "      <th>4</th>\n",
       "      <td>PP Chawla</td>\n",
       "      <td>156</td>\n",
       "    </tr>\n",
       "    <tr>\n",
       "      <th>...</th>\n",
       "      <td>...</td>\n",
       "      <td>...</td>\n",
       "    </tr>\n",
       "    <tr>\n",
       "      <th>347</th>\n",
       "      <td>BMAJ Mendis</td>\n",
       "      <td>1</td>\n",
       "    </tr>\n",
       "    <tr>\n",
       "      <th>348</th>\n",
       "      <td>SS Sarkar</td>\n",
       "      <td>1</td>\n",
       "    </tr>\n",
       "    <tr>\n",
       "      <th>349</th>\n",
       "      <td>SS Mundhe</td>\n",
       "      <td>1</td>\n",
       "    </tr>\n",
       "    <tr>\n",
       "      <th>350</th>\n",
       "      <td>Swapnil Singh</td>\n",
       "      <td>1</td>\n",
       "    </tr>\n",
       "    <tr>\n",
       "      <th>351</th>\n",
       "      <td>T Henderson</td>\n",
       "      <td>1</td>\n",
       "    </tr>\n",
       "  </tbody>\n",
       "</table>\n",
       "<p>352 rows × 2 columns</p>\n",
       "</div>"
      ],
      "text/plain": [
       "              bowler  wickets\n",
       "0         SL Malinga      188\n",
       "1           DJ Bravo      168\n",
       "2           A Mishra      165\n",
       "3    Harbhajan Singh      161\n",
       "4          PP Chawla      156\n",
       "..               ...      ...\n",
       "347      BMAJ Mendis        1\n",
       "348        SS Sarkar        1\n",
       "349        SS Mundhe        1\n",
       "350    Swapnil Singh        1\n",
       "351      T Henderson        1\n",
       "\n",
       "[352 rows x 2 columns]"
      ]
     },
     "execution_count": 36,
     "metadata": {},
     "output_type": "execute_result"
    }
   ],
   "source": [
    "sort_top=bowler.sort_values(\"wickets\",ascending=False).reset_index(drop=True)\n",
    "sort_top"
   ]
  },
  {
   "cell_type": "code",
   "execution_count": 37,
   "id": "81cfb0ac-6376-47b9-8033-b5dad14e1f67",
   "metadata": {},
   "outputs": [],
   "source": [
    "top_ten=sort_top.iloc[0:11,0:2]"
   ]
  },
  {
   "cell_type": "code",
   "execution_count": 38,
   "id": "7e375237-b1eb-4b1c-9892-4848a2a2c68f",
   "metadata": {},
   "outputs": [
    {
     "data": {
      "text/html": [
       "<div>\n",
       "<style scoped>\n",
       "    .dataframe tbody tr th:only-of-type {\n",
       "        vertical-align: middle;\n",
       "    }\n",
       "\n",
       "    .dataframe tbody tr th {\n",
       "        vertical-align: top;\n",
       "    }\n",
       "\n",
       "    .dataframe thead th {\n",
       "        text-align: right;\n",
       "    }\n",
       "</style>\n",
       "<table border=\"1\" class=\"dataframe\">\n",
       "  <thead>\n",
       "    <tr style=\"text-align: right;\">\n",
       "      <th></th>\n",
       "      <th>bowler</th>\n",
       "      <th>wickets</th>\n",
       "    </tr>\n",
       "  </thead>\n",
       "  <tbody>\n",
       "    <tr>\n",
       "      <th>0</th>\n",
       "      <td>SL Malinga</td>\n",
       "      <td>188</td>\n",
       "    </tr>\n",
       "    <tr>\n",
       "      <th>1</th>\n",
       "      <td>DJ Bravo</td>\n",
       "      <td>168</td>\n",
       "    </tr>\n",
       "    <tr>\n",
       "      <th>2</th>\n",
       "      <td>A Mishra</td>\n",
       "      <td>165</td>\n",
       "    </tr>\n",
       "    <tr>\n",
       "      <th>3</th>\n",
       "      <td>Harbhajan Singh</td>\n",
       "      <td>161</td>\n",
       "    </tr>\n",
       "    <tr>\n",
       "      <th>4</th>\n",
       "      <td>PP Chawla</td>\n",
       "      <td>156</td>\n",
       "    </tr>\n",
       "    <tr>\n",
       "      <th>5</th>\n",
       "      <td>B Kumar</td>\n",
       "      <td>141</td>\n",
       "    </tr>\n",
       "    <tr>\n",
       "      <th>6</th>\n",
       "      <td>R Ashwin</td>\n",
       "      <td>138</td>\n",
       "    </tr>\n",
       "    <tr>\n",
       "      <th>7</th>\n",
       "      <td>SP Narine</td>\n",
       "      <td>137</td>\n",
       "    </tr>\n",
       "    <tr>\n",
       "      <th>8</th>\n",
       "      <td>UT Yadav</td>\n",
       "      <td>136</td>\n",
       "    </tr>\n",
       "    <tr>\n",
       "      <th>9</th>\n",
       "      <td>R Vinay Kumar</td>\n",
       "      <td>127</td>\n",
       "    </tr>\n",
       "    <tr>\n",
       "      <th>10</th>\n",
       "      <td>A Nehra</td>\n",
       "      <td>121</td>\n",
       "    </tr>\n",
       "  </tbody>\n",
       "</table>\n",
       "</div>"
      ],
      "text/plain": [
       "             bowler  wickets\n",
       "0        SL Malinga      188\n",
       "1          DJ Bravo      168\n",
       "2          A Mishra      165\n",
       "3   Harbhajan Singh      161\n",
       "4         PP Chawla      156\n",
       "5           B Kumar      141\n",
       "6          R Ashwin      138\n",
       "7         SP Narine      137\n",
       "8          UT Yadav      136\n",
       "9     R Vinay Kumar      127\n",
       "10          A Nehra      121"
      ]
     },
     "execution_count": 38,
     "metadata": {},
     "output_type": "execute_result"
    }
   ],
   "source": [
    "top_ten"
   ]
  },
  {
   "cell_type": "code",
   "execution_count": 39,
   "id": "3ea74bcd-0ecf-4366-bf86-ede391444a7b",
   "metadata": {},
   "outputs": [
    {
     "name": "stderr",
     "output_type": "stream",
     "text": [
      "C:\\Users\\RiteshNain\\AppData\\Local\\Temp\\ipykernel_24868\\1656033234.py:5: UserWarning: \n",
      "The palette list has fewer values (8) than needed (11) and will cycle, which may produce an uninterpretable plot.\n",
      "  sns.barplot(x=\"wickets\",y=\"bowler\",data=top_ten,palette=colors,hue=\"bowler\")\n"
     ]
    },
    {
     "data": {
      "image/png": "[encoded data removed]",
      "text/plain": [
       "<Figure size 1200x800 with 1 Axes>"
      ]
     },
     "metadata": {},
     "output_type": "display_data"
    }
   ],
   "source": [
    "# plotting\n",
    "plt.figure(figsize=(12,8))\n",
    "sns.set_style(\"whitegrid\")\n",
    "colors=sns.color_palette(\"Set2\")\n",
    "sns.barplot(x=\"wickets\",y=\"bowler\",data=top_ten,palette=colors,hue=\"bowler\")\n",
    "for i in range(len(top_ten[\"bowler\"])):\n",
    "    plt.text(top_ten[\"wickets\"][i]+1,i,f\"{top_ten['wickets'][i]}\",fontsize=15,fontweight=600)\n",
    "plt.title(\"Top 10 bowlers with most wickets\",fontsize=18,fontweight=800)\n",
    "plt.xlabel(\"Bolwer\",fontsize=17,fontweight=500)\n",
    "plt.ylabel(\"Wickets\",fontsize=17,fontweight=500)\n",
    "plt.xticks(fontweight=600)\n",
    "plt.yticks(fontweight=600)\n",
    "plt.grid(False)\n",
    "\n",
    "plt.tight_layout()\n",
    "plt.savefig(\"plots/top_bowler.jpg\",dpi=300)\n",
    "plt.show()\n"
   ]
  },
  {
   "cell_type": "markdown",
   "id": "1e12f45d-28b6-4f74-b1d5-a5981b6f552d",
   "metadata": {},
   "source": [
    "### Best finishers (most runs in last 5 overs: over 16-20)"
   ]
  },
  {
   "cell_type": "code",
   "execution_count": 40,
   "id": "1320f2e2-e605-4266-a158-fa7a71174109",
   "metadata": {},
   "outputs": [],
   "source": [
    "finisher=pd.read_csv(r\"R:\\IPL-DATA-ANALYSIS\\Data\\deliveries.csv\",usecols=[\"batting_team\",\"over\",\"total_runs\"])"
   ]
  },
  {
   "cell_type": "code",
   "execution_count": 41,
   "id": "118f501d-407e-4b94-a026-925cd52d8602",
   "metadata": {},
   "outputs": [],
   "source": [
    "finisher=finisher.replace({\"Rising Pune Supergiants\":\"Rising Pune Supergiant\"})"
   ]
  },
  {
   "cell_type": "code",
   "execution_count": 42,
   "id": "296f81da-09f6-4c5e-a00e-698dd81c1dcb",
   "metadata": {},
   "outputs": [
    {
     "data": {
      "text/html": [
       "<div>\n",
       "<style scoped>\n",
       "    .dataframe tbody tr th:only-of-type {\n",
       "        vertical-align: middle;\n",
       "    }\n",
       "\n",
       "    .dataframe tbody tr th {\n",
       "        vertical-align: top;\n",
       "    }\n",
       "\n",
       "    .dataframe thead th {\n",
       "        text-align: right;\n",
       "    }\n",
       "</style>\n",
       "<table border=\"1\" class=\"dataframe\">\n",
       "  <thead>\n",
       "    <tr style=\"text-align: right;\">\n",
       "      <th></th>\n",
       "      <th>batting_team</th>\n",
       "      <th>over</th>\n",
       "      <th>total_runs</th>\n",
       "    </tr>\n",
       "  </thead>\n",
       "  <tbody>\n",
       "    <tr>\n",
       "      <th>0</th>\n",
       "      <td>Sunrisers Hyderabad</td>\n",
       "      <td>1</td>\n",
       "      <td>0</td>\n",
       "    </tr>\n",
       "    <tr>\n",
       "      <th>1</th>\n",
       "      <td>Sunrisers Hyderabad</td>\n",
       "      <td>1</td>\n",
       "      <td>0</td>\n",
       "    </tr>\n",
       "    <tr>\n",
       "      <th>2</th>\n",
       "      <td>Sunrisers Hyderabad</td>\n",
       "      <td>1</td>\n",
       "      <td>4</td>\n",
       "    </tr>\n",
       "    <tr>\n",
       "      <th>3</th>\n",
       "      <td>Sunrisers Hyderabad</td>\n",
       "      <td>1</td>\n",
       "      <td>0</td>\n",
       "    </tr>\n",
       "    <tr>\n",
       "      <th>4</th>\n",
       "      <td>Sunrisers Hyderabad</td>\n",
       "      <td>1</td>\n",
       "      <td>2</td>\n",
       "    </tr>\n",
       "  </tbody>\n",
       "</table>\n",
       "</div>"
      ],
      "text/plain": [
       "          batting_team  over  total_runs\n",
       "0  Sunrisers Hyderabad     1           0\n",
       "1  Sunrisers Hyderabad     1           0\n",
       "2  Sunrisers Hyderabad     1           4\n",
       "3  Sunrisers Hyderabad     1           0\n",
       "4  Sunrisers Hyderabad     1           2"
      ]
     },
     "execution_count": 42,
     "metadata": {},
     "output_type": "execute_result"
    }
   ],
   "source": [
    "finisher.head()"
   ]
  },
  {
   "cell_type": "code",
   "execution_count": 43,
   "id": "4794f2c3-8add-438c-a103-a2310ddba720",
   "metadata": {},
   "outputs": [
    {
     "data": {
      "text/plain": [
       "batting_team    0\n",
       "over            0\n",
       "total_runs      0\n",
       "dtype: int64"
      ]
     },
     "execution_count": 43,
     "metadata": {},
     "output_type": "execute_result"
    }
   ],
   "source": [
    "finisher.isnull().sum()"
   ]
  },
  {
   "cell_type": "code",
   "execution_count": 44,
   "id": "a19f76f2-3cdc-4c5f-9938-fadf610f97a5",
   "metadata": {},
   "outputs": [],
   "source": [
    "finisher=finisher.query(\"15<over<21\")"
   ]
  },
  {
   "cell_type": "code",
   "execution_count": 45,
   "id": "d196b5f6-0dd5-46d6-915e-0729254586b9",
   "metadata": {},
   "outputs": [
    {
     "name": "stdout",
     "output_type": "stream",
     "text": [
      "<class 'pandas.core.frame.DataFrame'>\n",
      "Index: 40400 entries, 93 to 179077\n",
      "Data columns (total 3 columns):\n",
      " #   Column        Non-Null Count  Dtype \n",
      "---  ------        --------------  ----- \n",
      " 0   batting_team  40400 non-null  object\n",
      " 1   over          40400 non-null  int64 \n",
      " 2   total_runs    40400 non-null  int64 \n",
      "dtypes: int64(2), object(1)\n",
      "memory usage: 1.2+ MB\n"
     ]
    }
   ],
   "source": [
    "finisher.info()"
   ]
  },
  {
   "cell_type": "code",
   "execution_count": 46,
   "id": "646467dc-118b-48d7-b3e2-d14fe04e61b2",
   "metadata": {},
   "outputs": [
    {
     "data": {
      "text/html": [
       "<div>\n",
       "<style scoped>\n",
       "    .dataframe tbody tr th:only-of-type {\n",
       "        vertical-align: middle;\n",
       "    }\n",
       "\n",
       "    .dataframe tbody tr th {\n",
       "        vertical-align: top;\n",
       "    }\n",
       "\n",
       "    .dataframe thead th {\n",
       "        text-align: right;\n",
       "    }\n",
       "</style>\n",
       "<table border=\"1\" class=\"dataframe\">\n",
       "  <thead>\n",
       "    <tr style=\"text-align: right;\">\n",
       "      <th></th>\n",
       "      <th>batting_team</th>\n",
       "      <th>over</th>\n",
       "      <th>total_runs</th>\n",
       "    </tr>\n",
       "  </thead>\n",
       "  <tbody>\n",
       "    <tr>\n",
       "      <th>179073</th>\n",
       "      <td>Chennai Super Kings</td>\n",
       "      <td>20</td>\n",
       "      <td>1</td>\n",
       "    </tr>\n",
       "    <tr>\n",
       "      <th>179074</th>\n",
       "      <td>Chennai Super Kings</td>\n",
       "      <td>20</td>\n",
       "      <td>2</td>\n",
       "    </tr>\n",
       "    <tr>\n",
       "      <th>179075</th>\n",
       "      <td>Chennai Super Kings</td>\n",
       "      <td>20</td>\n",
       "      <td>1</td>\n",
       "    </tr>\n",
       "    <tr>\n",
       "      <th>179076</th>\n",
       "      <td>Chennai Super Kings</td>\n",
       "      <td>20</td>\n",
       "      <td>2</td>\n",
       "    </tr>\n",
       "    <tr>\n",
       "      <th>179077</th>\n",
       "      <td>Chennai Super Kings</td>\n",
       "      <td>20</td>\n",
       "      <td>0</td>\n",
       "    </tr>\n",
       "  </tbody>\n",
       "</table>\n",
       "</div>"
      ],
      "text/plain": [
       "               batting_team  over  total_runs\n",
       "179073  Chennai Super Kings    20           1\n",
       "179074  Chennai Super Kings    20           2\n",
       "179075  Chennai Super Kings    20           1\n",
       "179076  Chennai Super Kings    20           2\n",
       "179077  Chennai Super Kings    20           0"
      ]
     },
     "execution_count": 46,
     "metadata": {},
     "output_type": "execute_result"
    }
   ],
   "source": [
    "finisher.tail()"
   ]
  },
  {
   "cell_type": "code",
   "execution_count": 47,
   "id": "ccc415e6-5e08-4a9b-89c6-fb738a8e32e1",
   "metadata": {},
   "outputs": [],
   "source": [
    "finisher=finisher.groupby([\"batting_team\",\"over\"])[\"total_runs\"].sum().reset_index(name=\"runs\")"
   ]
  },
  {
   "cell_type": "code",
   "execution_count": 48,
   "id": "0fb25f02-0b69-46c3-b702-97d3ee98a84b",
   "metadata": {},
   "outputs": [
    {
     "data": {
      "text/html": [
       "<div>\n",
       "<style scoped>\n",
       "    .dataframe tbody tr th:only-of-type {\n",
       "        vertical-align: middle;\n",
       "    }\n",
       "\n",
       "    .dataframe tbody tr th {\n",
       "        vertical-align: top;\n",
       "    }\n",
       "\n",
       "    .dataframe thead th {\n",
       "        text-align: right;\n",
       "    }\n",
       "</style>\n",
       "<table border=\"1\" class=\"dataframe\">\n",
       "  <thead>\n",
       "    <tr style=\"text-align: right;\">\n",
       "      <th></th>\n",
       "      <th>batting_team</th>\n",
       "      <th>over</th>\n",
       "      <th>runs</th>\n",
       "    </tr>\n",
       "  </thead>\n",
       "  <tbody>\n",
       "    <tr>\n",
       "      <th>0</th>\n",
       "      <td>Chennai Super Kings</td>\n",
       "      <td>16</td>\n",
       "      <td>1434</td>\n",
       "    </tr>\n",
       "    <tr>\n",
       "      <th>1</th>\n",
       "      <td>Chennai Super Kings</td>\n",
       "      <td>17</td>\n",
       "      <td>1490</td>\n",
       "    </tr>\n",
       "    <tr>\n",
       "      <th>2</th>\n",
       "      <td>Chennai Super Kings</td>\n",
       "      <td>18</td>\n",
       "      <td>1597</td>\n",
       "    </tr>\n",
       "    <tr>\n",
       "      <th>3</th>\n",
       "      <td>Chennai Super Kings</td>\n",
       "      <td>19</td>\n",
       "      <td>1567</td>\n",
       "    </tr>\n",
       "    <tr>\n",
       "      <th>4</th>\n",
       "      <td>Chennai Super Kings</td>\n",
       "      <td>20</td>\n",
       "      <td>1517</td>\n",
       "    </tr>\n",
       "    <tr>\n",
       "      <th>...</th>\n",
       "      <td>...</td>\n",
       "      <td>...</td>\n",
       "      <td>...</td>\n",
       "    </tr>\n",
       "    <tr>\n",
       "      <th>65</th>\n",
       "      <td>Sunrisers Hyderabad</td>\n",
       "      <td>16</td>\n",
       "      <td>866</td>\n",
       "    </tr>\n",
       "    <tr>\n",
       "      <th>66</th>\n",
       "      <td>Sunrisers Hyderabad</td>\n",
       "      <td>17</td>\n",
       "      <td>813</td>\n",
       "    </tr>\n",
       "    <tr>\n",
       "      <th>67</th>\n",
       "      <td>Sunrisers Hyderabad</td>\n",
       "      <td>18</td>\n",
       "      <td>974</td>\n",
       "    </tr>\n",
       "    <tr>\n",
       "      <th>68</th>\n",
       "      <td>Sunrisers Hyderabad</td>\n",
       "      <td>19</td>\n",
       "      <td>1022</td>\n",
       "    </tr>\n",
       "    <tr>\n",
       "      <th>69</th>\n",
       "      <td>Sunrisers Hyderabad</td>\n",
       "      <td>20</td>\n",
       "      <td>901</td>\n",
       "    </tr>\n",
       "  </tbody>\n",
       "</table>\n",
       "<p>70 rows × 3 columns</p>\n",
       "</div>"
      ],
      "text/plain": [
       "           batting_team  over  runs\n",
       "0   Chennai Super Kings    16  1434\n",
       "1   Chennai Super Kings    17  1490\n",
       "2   Chennai Super Kings    18  1597\n",
       "3   Chennai Super Kings    19  1567\n",
       "4   Chennai Super Kings    20  1517\n",
       "..                  ...   ...   ...\n",
       "65  Sunrisers Hyderabad    16   866\n",
       "66  Sunrisers Hyderabad    17   813\n",
       "67  Sunrisers Hyderabad    18   974\n",
       "68  Sunrisers Hyderabad    19  1022\n",
       "69  Sunrisers Hyderabad    20   901\n",
       "\n",
       "[70 rows x 3 columns]"
      ]
     },
     "execution_count": 48,
     "metadata": {},
     "output_type": "execute_result"
    }
   ],
   "source": [
    "finisher"
   ]
  },
  {
   "cell_type": "code",
   "execution_count": 49,
   "id": "3d4a7f41-6b8e-421e-9193-291703a8f66a",
   "metadata": {},
   "outputs": [
    {
     "data": {
      "text/html": [
       "<div>\n",
       "<style scoped>\n",
       "    .dataframe tbody tr th:only-of-type {\n",
       "        vertical-align: middle;\n",
       "    }\n",
       "\n",
       "    .dataframe tbody tr th {\n",
       "        vertical-align: top;\n",
       "    }\n",
       "\n",
       "    .dataframe thead th {\n",
       "        text-align: right;\n",
       "    }\n",
       "</style>\n",
       "<table border=\"1\" class=\"dataframe\">\n",
       "  <thead>\n",
       "    <tr style=\"text-align: right;\">\n",
       "      <th></th>\n",
       "      <th>batting_team</th>\n",
       "      <th>total_run</th>\n",
       "    </tr>\n",
       "  </thead>\n",
       "  <tbody>\n",
       "    <tr>\n",
       "      <th>0</th>\n",
       "      <td>Mumbai Indians</td>\n",
       "      <td>8591</td>\n",
       "    </tr>\n",
       "    <tr>\n",
       "      <th>1</th>\n",
       "      <td>Royal Challengers Bangalore</td>\n",
       "      <td>7881</td>\n",
       "    </tr>\n",
       "    <tr>\n",
       "      <th>2</th>\n",
       "      <td>Chennai Super Kings</td>\n",
       "      <td>7605</td>\n",
       "    </tr>\n",
       "    <tr>\n",
       "      <th>3</th>\n",
       "      <td>Kings XI Punjab</td>\n",
       "      <td>7302</td>\n",
       "    </tr>\n",
       "    <tr>\n",
       "      <th>4</th>\n",
       "      <td>Kolkata Knight Riders</td>\n",
       "      <td>7164</td>\n",
       "    </tr>\n",
       "    <tr>\n",
       "      <th>5</th>\n",
       "      <td>Delhi Daredevils</td>\n",
       "      <td>6307</td>\n",
       "    </tr>\n",
       "    <tr>\n",
       "      <th>6</th>\n",
       "      <td>Rajasthan Royals</td>\n",
       "      <td>5740</td>\n",
       "    </tr>\n",
       "    <tr>\n",
       "      <th>7</th>\n",
       "      <td>Sunrisers Hyderabad</td>\n",
       "      <td>4576</td>\n",
       "    </tr>\n",
       "    <tr>\n",
       "      <th>8</th>\n",
       "      <td>Deccan Chargers</td>\n",
       "      <td>3133</td>\n",
       "    </tr>\n",
       "    <tr>\n",
       "      <th>9</th>\n",
       "      <td>Pune Warriors</td>\n",
       "      <td>1733</td>\n",
       "    </tr>\n",
       "    <tr>\n",
       "      <th>10</th>\n",
       "      <td>Rising Pune Supergiant</td>\n",
       "      <td>1211</td>\n",
       "    </tr>\n",
       "    <tr>\n",
       "      <th>11</th>\n",
       "      <td>Gujarat Lions</td>\n",
       "      <td>1159</td>\n",
       "    </tr>\n",
       "    <tr>\n",
       "      <th>12</th>\n",
       "      <td>Delhi Capitals</td>\n",
       "      <td>686</td>\n",
       "    </tr>\n",
       "    <tr>\n",
       "      <th>13</th>\n",
       "      <td>Kochi Tuskers Kerala</td>\n",
       "      <td>390</td>\n",
       "    </tr>\n",
       "  </tbody>\n",
       "</table>\n",
       "</div>"
      ],
      "text/plain": [
       "                   batting_team  total_run\n",
       "0                Mumbai Indians       8591\n",
       "1   Royal Challengers Bangalore       7881\n",
       "2           Chennai Super Kings       7605\n",
       "3               Kings XI Punjab       7302\n",
       "4         Kolkata Knight Riders       7164\n",
       "5              Delhi Daredevils       6307\n",
       "6              Rajasthan Royals       5740\n",
       "7           Sunrisers Hyderabad       4576\n",
       "8               Deccan Chargers       3133\n",
       "9                 Pune Warriors       1733\n",
       "10       Rising Pune Supergiant       1211\n",
       "11                Gujarat Lions       1159\n",
       "12               Delhi Capitals        686\n",
       "13         Kochi Tuskers Kerala        390"
      ]
     },
     "execution_count": 49,
     "metadata": {},
     "output_type": "execute_result"
    }
   ],
   "source": [
    "best_finisher=finisher.groupby(\"batting_team\")[\"runs\"].sum().reset_index(name=\"total_run\")\n",
    "best_finisher=best_finisher.sort_values(\"total_run\",ascending=False).reset_index(drop=True)\n",
    "best_finisher"
   ]
  },
  {
   "cell_type": "code",
   "execution_count": 50,
   "id": "a7f4af56-f7c3-40d5-801a-cf42fc0d5513",
   "metadata": {},
   "outputs": [
    {
     "name": "stderr",
     "output_type": "stream",
     "text": [
      "C:\\Users\\RiteshNain\\AppData\\Local\\Temp\\ipykernel_24868\\2101621725.py:4: UserWarning: \n",
      "The palette list has fewer values (12) than needed (14) and will cycle, which may produce an uninterpretable plot.\n",
      "  sns.barplot(x=\"total_run\",y=\"batting_team\",data=best_finisher,palette=colors,hue=\"batting_team\",edgecolor=\"black\")\n"
     ]
    },
    {
     "data": {
      "image/png": "[encoded data removed]",
      "text/plain": [
       "<Figure size 1200x800 with 1 Axes>"
      ]
     },
     "metadata": {},
     "output_type": "display_data"
    }
   ],
   "source": [
    "plt.figure(figsize=(12,8))\n",
    "sns.set_style(\"dark\")\n",
    "colors=sns.color_palette(\"Set3\")\n",
    "sns.barplot(x=\"total_run\",y=\"batting_team\",data=best_finisher,palette=colors,hue=\"batting_team\",edgecolor=\"black\")\n",
    "for i in range(len(best_finisher[\"batting_team\"])):\n",
    "    plt.text(best_finisher[\"total_run\"][i]+50,i,f\"{best_finisher['total_run'][i]}\",fontweight=600,fontsize=14)\n",
    "   \n",
    " \n",
    "plt.grid(True,color=\"black\",alpha=0.06)\n",
    "plt.title(\"Most runs in last 5 overs\",fontsize=18,fontweight=700)\n",
    "plt.xlabel(\"Teams\",fontweight=600,fontsize=15)\n",
    "plt.ylabel(\"Runs\",fontweight=600,fontsize=15)\n",
    "plt.xticks(fontweight=600)\n",
    "plt.yticks(fontweight=600)\n",
    "plt.tight_layout\n",
    "plt.savefig(\"plots/most_run_5_over.jpg\",dpi=300)\n",
    "plt.show()"
   ]
  },
  {
   "cell_type": "markdown",
   "id": "0b00f22b-75d8-41c4-90d0-36ac870c4385",
   "metadata": {},
   "source": [
    "### Most ‘Player of the Match’ awards"
   ]
  },
  {
   "cell_type": "code",
   "execution_count": 51,
   "id": "e063fd7e-64b3-45fb-900f-7ac0f9ff6d04",
   "metadata": {},
   "outputs": [],
   "source": [
    "player=pd.read_csv(r\"R:\\IPL-DATA-ANALYSIS\\Data\\matches.csv\",usecols=[\"player_of_match\"])"
   ]
  },
  {
   "cell_type": "code",
   "execution_count": 52,
   "id": "e29e5af3-219d-4036-b887-96c0677695cd",
   "metadata": {},
   "outputs": [
    {
     "data": {
      "text/plain": [
       "player_of_match    4\n",
       "dtype: int64"
      ]
     },
     "execution_count": 52,
     "metadata": {},
     "output_type": "execute_result"
    }
   ],
   "source": [
    "player.isnull().sum()"
   ]
  },
  {
   "cell_type": "code",
   "execution_count": 53,
   "id": "9b7e93fe-5279-4298-afc0-e80f79bcd5df",
   "metadata": {},
   "outputs": [],
   "source": [
    "player=player.dropna(subset=\"player_of_match\")"
   ]
  },
  {
   "cell_type": "code",
   "execution_count": 54,
   "id": "7dd00b2a-9197-4494-abe4-012cb5d4f30d",
   "metadata": {},
   "outputs": [
    {
     "data": {
      "text/plain": [
       "player_of_match    0\n",
       "dtype: int64"
      ]
     },
     "execution_count": 54,
     "metadata": {},
     "output_type": "execute_result"
    }
   ],
   "source": [
    "player.isnull().sum()"
   ]
  },
  {
   "cell_type": "code",
   "execution_count": 55,
   "id": "5cbb01e0-05d1-4f4f-8663-1d5adfcfe8c1",
   "metadata": {},
   "outputs": [],
   "source": [
    "player=player.groupby(\"player_of_match\")[\"player_of_match\"].count().reset_index(name=\"award\")"
   ]
  },
  {
   "cell_type": "code",
   "execution_count": 56,
   "id": "8801fd99-e2f4-46bb-963e-466cd9f8c1b6",
   "metadata": {},
   "outputs": [
    {
     "data": {
      "text/html": [
       "<div>\n",
       "<style scoped>\n",
       "    .dataframe tbody tr th:only-of-type {\n",
       "        vertical-align: middle;\n",
       "    }\n",
       "\n",
       "    .dataframe tbody tr th {\n",
       "        vertical-align: top;\n",
       "    }\n",
       "\n",
       "    .dataframe thead th {\n",
       "        text-align: right;\n",
       "    }\n",
       "</style>\n",
       "<table border=\"1\" class=\"dataframe\">\n",
       "  <thead>\n",
       "    <tr style=\"text-align: right;\">\n",
       "      <th></th>\n",
       "      <th>player_of_match</th>\n",
       "      <th>award</th>\n",
       "    </tr>\n",
       "  </thead>\n",
       "  <tbody>\n",
       "    <tr>\n",
       "      <th>0</th>\n",
       "      <td>A Chandila</td>\n",
       "      <td>1</td>\n",
       "    </tr>\n",
       "    <tr>\n",
       "      <th>1</th>\n",
       "      <td>A Joseph</td>\n",
       "      <td>1</td>\n",
       "    </tr>\n",
       "    <tr>\n",
       "      <th>2</th>\n",
       "      <td>A Kumble</td>\n",
       "      <td>3</td>\n",
       "    </tr>\n",
       "    <tr>\n",
       "      <th>3</th>\n",
       "      <td>A Mishra</td>\n",
       "      <td>11</td>\n",
       "    </tr>\n",
       "    <tr>\n",
       "      <th>4</th>\n",
       "      <td>A Nehra</td>\n",
       "      <td>6</td>\n",
       "    </tr>\n",
       "    <tr>\n",
       "      <th>...</th>\n",
       "      <td>...</td>\n",
       "      <td>...</td>\n",
       "    </tr>\n",
       "    <tr>\n",
       "      <th>221</th>\n",
       "      <td>Washington Sundar</td>\n",
       "      <td>1</td>\n",
       "    </tr>\n",
       "    <tr>\n",
       "      <th>222</th>\n",
       "      <td>YK Pathan</td>\n",
       "      <td>16</td>\n",
       "    </tr>\n",
       "    <tr>\n",
       "      <th>223</th>\n",
       "      <td>YS Chahal</td>\n",
       "      <td>1</td>\n",
       "    </tr>\n",
       "    <tr>\n",
       "      <th>224</th>\n",
       "      <td>Yuvraj Singh</td>\n",
       "      <td>5</td>\n",
       "    </tr>\n",
       "    <tr>\n",
       "      <th>225</th>\n",
       "      <td>Z Khan</td>\n",
       "      <td>1</td>\n",
       "    </tr>\n",
       "  </tbody>\n",
       "</table>\n",
       "<p>226 rows × 2 columns</p>\n",
       "</div>"
      ],
      "text/plain": [
       "       player_of_match  award\n",
       "0           A Chandila      1\n",
       "1             A Joseph      1\n",
       "2             A Kumble      3\n",
       "3             A Mishra     11\n",
       "4              A Nehra      6\n",
       "..                 ...    ...\n",
       "221  Washington Sundar      1\n",
       "222          YK Pathan     16\n",
       "223          YS Chahal      1\n",
       "224       Yuvraj Singh      5\n",
       "225             Z Khan      1\n",
       "\n",
       "[226 rows x 2 columns]"
      ]
     },
     "execution_count": 56,
     "metadata": {},
     "output_type": "execute_result"
    }
   ],
   "source": [
    "player"
   ]
  },
  {
   "cell_type": "code",
   "execution_count": 57,
   "id": "fc1bd4b6-5de9-45e6-a20e-a16e46281e51",
   "metadata": {},
   "outputs": [],
   "source": [
    "player=player.sort_values(by=\"award\",ascending=False)"
   ]
  },
  {
   "cell_type": "code",
   "execution_count": 58,
   "id": "1a78bcfa-1aef-488f-9dbb-3939a37e85dd",
   "metadata": {},
   "outputs": [
    {
     "data": {
      "text/html": [
       "<div>\n",
       "<style scoped>\n",
       "    .dataframe tbody tr th:only-of-type {\n",
       "        vertical-align: middle;\n",
       "    }\n",
       "\n",
       "    .dataframe tbody tr th {\n",
       "        vertical-align: top;\n",
       "    }\n",
       "\n",
       "    .dataframe thead th {\n",
       "        text-align: right;\n",
       "    }\n",
       "</style>\n",
       "<table border=\"1\" class=\"dataframe\">\n",
       "  <thead>\n",
       "    <tr style=\"text-align: right;\">\n",
       "      <th></th>\n",
       "      <th>player_of_match</th>\n",
       "      <th>award</th>\n",
       "    </tr>\n",
       "  </thead>\n",
       "  <tbody>\n",
       "    <tr>\n",
       "      <th>35</th>\n",
       "      <td>CH Gayle</td>\n",
       "      <td>21</td>\n",
       "    </tr>\n",
       "    <tr>\n",
       "      <th>10</th>\n",
       "      <td>AB de Villiers</td>\n",
       "      <td>20</td>\n",
       "    </tr>\n",
       "    <tr>\n",
       "      <th>42</th>\n",
       "      <td>DA Warner</td>\n",
       "      <td>17</td>\n",
       "    </tr>\n",
       "    <tr>\n",
       "      <th>137</th>\n",
       "      <td>MS Dhoni</td>\n",
       "      <td>17</td>\n",
       "    </tr>\n",
       "    <tr>\n",
       "      <th>167</th>\n",
       "      <td>RG Sharma</td>\n",
       "      <td>17</td>\n",
       "    </tr>\n",
       "    <tr>\n",
       "      <th>...</th>\n",
       "      <td>...</td>\n",
       "      <td>...</td>\n",
       "    </tr>\n",
       "    <tr>\n",
       "      <th>213</th>\n",
       "      <td>TM Dilshan</td>\n",
       "      <td>1</td>\n",
       "    </tr>\n",
       "    <tr>\n",
       "      <th>221</th>\n",
       "      <td>Washington Sundar</td>\n",
       "      <td>1</td>\n",
       "    </tr>\n",
       "    <tr>\n",
       "      <th>220</th>\n",
       "      <td>WPUJC Vaas</td>\n",
       "      <td>1</td>\n",
       "    </tr>\n",
       "    <tr>\n",
       "      <th>223</th>\n",
       "      <td>YS Chahal</td>\n",
       "      <td>1</td>\n",
       "    </tr>\n",
       "    <tr>\n",
       "      <th>225</th>\n",
       "      <td>Z Khan</td>\n",
       "      <td>1</td>\n",
       "    </tr>\n",
       "  </tbody>\n",
       "</table>\n",
       "<p>226 rows × 2 columns</p>\n",
       "</div>"
      ],
      "text/plain": [
       "       player_of_match  award\n",
       "35            CH Gayle     21\n",
       "10      AB de Villiers     20\n",
       "42           DA Warner     17\n",
       "137           MS Dhoni     17\n",
       "167          RG Sharma     17\n",
       "..                 ...    ...\n",
       "213         TM Dilshan      1\n",
       "221  Washington Sundar      1\n",
       "220         WPUJC Vaas      1\n",
       "223          YS Chahal      1\n",
       "225             Z Khan      1\n",
       "\n",
       "[226 rows x 2 columns]"
      ]
     },
     "execution_count": 58,
     "metadata": {},
     "output_type": "execute_result"
    }
   ],
   "source": [
    "player"
   ]
  },
  {
   "cell_type": "code",
   "execution_count": 59,
   "id": "2fd2b439-d4a1-47b8-a109-abc9e6274ec7",
   "metadata": {},
   "outputs": [],
   "source": [
    "player=player.reset_index(drop=True)"
   ]
  },
  {
   "cell_type": "code",
   "execution_count": 60,
   "id": "1153b405-d54a-43f6-b7f6-0fd1e6c6248b",
   "metadata": {},
   "outputs": [],
   "source": [
    "#top_5\n",
    "top_5=player.iloc[0:5,:]"
   ]
  },
  {
   "cell_type": "code",
   "execution_count": 61,
   "id": "37194ea9-99e4-4170-8fc3-b67c61cdcc37",
   "metadata": {},
   "outputs": [
    {
     "data": {
      "text/html": [
       "<div>\n",
       "<style scoped>\n",
       "    .dataframe tbody tr th:only-of-type {\n",
       "        vertical-align: middle;\n",
       "    }\n",
       "\n",
       "    .dataframe tbody tr th {\n",
       "        vertical-align: top;\n",
       "    }\n",
       "\n",
       "    .dataframe thead th {\n",
       "        text-align: right;\n",
       "    }\n",
       "</style>\n",
       "<table border=\"1\" class=\"dataframe\">\n",
       "  <thead>\n",
       "    <tr style=\"text-align: right;\">\n",
       "      <th></th>\n",
       "      <th>player_of_match</th>\n",
       "      <th>award</th>\n",
       "    </tr>\n",
       "  </thead>\n",
       "  <tbody>\n",
       "    <tr>\n",
       "      <th>0</th>\n",
       "      <td>CH Gayle</td>\n",
       "      <td>21</td>\n",
       "    </tr>\n",
       "    <tr>\n",
       "      <th>1</th>\n",
       "      <td>AB de Villiers</td>\n",
       "      <td>20</td>\n",
       "    </tr>\n",
       "    <tr>\n",
       "      <th>2</th>\n",
       "      <td>DA Warner</td>\n",
       "      <td>17</td>\n",
       "    </tr>\n",
       "    <tr>\n",
       "      <th>3</th>\n",
       "      <td>MS Dhoni</td>\n",
       "      <td>17</td>\n",
       "    </tr>\n",
       "    <tr>\n",
       "      <th>4</th>\n",
       "      <td>RG Sharma</td>\n",
       "      <td>17</td>\n",
       "    </tr>\n",
       "  </tbody>\n",
       "</table>\n",
       "</div>"
      ],
      "text/plain": [
       "  player_of_match  award\n",
       "0        CH Gayle     21\n",
       "1  AB de Villiers     20\n",
       "2       DA Warner     17\n",
       "3        MS Dhoni     17\n",
       "4       RG Sharma     17"
      ]
     },
     "execution_count": 61,
     "metadata": {},
     "output_type": "execute_result"
    }
   ],
   "source": [
    "top_5"
   ]
  },
  {
   "cell_type": "code",
   "execution_count": 62,
   "id": "a4e1998b-8703-48a6-9afb-e9f74d037a9e",
   "metadata": {},
   "outputs": [
    {
     "data": {
      "image/png": "[encoded data removed]",
      "text/plain": [
       "<Figure size 1200x800 with 1 Axes>"
      ]
     },
     "metadata": {},
     "output_type": "display_data"
    }
   ],
   "source": [
    "# plot\n",
    "\n",
    "plt.figure(figsize=(12,8))\n",
    "colors = ['#A1C9F4', '#FFB482', '#8DE5A1', '#FF9F9B', '#D0BBFF']\n",
    "explode=[0.1,0,0,0,0]\n",
    "plt.pie(top_5[\"award\"],labels=top_5[\"player_of_match\"],autopct=\"%0.1f%%\",shadow=True,colors=colors,textprops={'fontsize':12,'fontweight':600},explode=explode,wedgeprops={'edgecolor':'black','linestyle':'--','linewidth':2})\n",
    "plt.title(\"Top 5 Most ‘Player of the Match’ awards \",fontweight=700,fontsize=18)\n",
    "plt.tight_layout()\n",
    "plt.savefig(\"plots/player_of_match.jpg\",dpi=300)\n",
    "plt.show()\n"
   ]
  },
  {
   "cell_type": "markdown",
   "id": "cfd34470-b0de-4bdb-bdf6-bde6ae47cc24",
   "metadata": {},
   "source": [
    "### Top performing batsmen against specific teams"
   ]
  },
  {
   "cell_type": "code",
   "execution_count": 88,
   "id": "d26c00d0-0941-4a2a-bd1c-30fe2e1e1519",
   "metadata": {},
   "outputs": [],
   "source": [
    "batsmen=pd.read_csv(r\"R:\\projects\\IPL-DATA-ANALYSIS\\Data\\deliveries.csv\",usecols=[\"batsman\",\"bowling_team\",\"batsman_runs\"])"
   ]
  },
  {
   "cell_type": "code",
   "execution_count": 89,
   "id": "c74f6419-18b7-47a4-9e0c-0d267f077d69",
   "metadata": {},
   "outputs": [
    {
     "data": {
      "text/html": [
       "<div>\n",
       "<style scoped>\n",
       "    .dataframe tbody tr th:only-of-type {\n",
       "        vertical-align: middle;\n",
       "    }\n",
       "\n",
       "    .dataframe tbody tr th {\n",
       "        vertical-align: top;\n",
       "    }\n",
       "\n",
       "    .dataframe thead th {\n",
       "        text-align: right;\n",
       "    }\n",
       "</style>\n",
       "<table border=\"1\" class=\"dataframe\">\n",
       "  <thead>\n",
       "    <tr style=\"text-align: right;\">\n",
       "      <th></th>\n",
       "      <th>bowling_team</th>\n",
       "      <th>batsman</th>\n",
       "      <th>batsman_runs</th>\n",
       "    </tr>\n",
       "  </thead>\n",
       "  <tbody>\n",
       "    <tr>\n",
       "      <th>0</th>\n",
       "      <td>Royal Challengers Bangalore</td>\n",
       "      <td>DA Warner</td>\n",
       "      <td>0</td>\n",
       "    </tr>\n",
       "    <tr>\n",
       "      <th>1</th>\n",
       "      <td>Royal Challengers Bangalore</td>\n",
       "      <td>DA Warner</td>\n",
       "      <td>0</td>\n",
       "    </tr>\n",
       "    <tr>\n",
       "      <th>2</th>\n",
       "      <td>Royal Challengers Bangalore</td>\n",
       "      <td>DA Warner</td>\n",
       "      <td>4</td>\n",
       "    </tr>\n",
       "    <tr>\n",
       "      <th>3</th>\n",
       "      <td>Royal Challengers Bangalore</td>\n",
       "      <td>DA Warner</td>\n",
       "      <td>0</td>\n",
       "    </tr>\n",
       "    <tr>\n",
       "      <th>4</th>\n",
       "      <td>Royal Challengers Bangalore</td>\n",
       "      <td>DA Warner</td>\n",
       "      <td>0</td>\n",
       "    </tr>\n",
       "  </tbody>\n",
       "</table>\n",
       "</div>"
      ],
      "text/plain": [
       "                  bowling_team    batsman  batsman_runs\n",
       "0  Royal Challengers Bangalore  DA Warner             0\n",
       "1  Royal Challengers Bangalore  DA Warner             0\n",
       "2  Royal Challengers Bangalore  DA Warner             4\n",
       "3  Royal Challengers Bangalore  DA Warner             0\n",
       "4  Royal Challengers Bangalore  DA Warner             0"
      ]
     },
     "execution_count": 89,
     "metadata": {},
     "output_type": "execute_result"
    }
   ],
   "source": [
    "batsmen.head()"
   ]
  },
  {
   "cell_type": "code",
   "execution_count": 90,
   "id": "a1bc6d7c-883b-444d-94a9-2b2d703a53db",
   "metadata": {},
   "outputs": [
    {
     "data": {
      "text/html": [
       "<div>\n",
       "<style scoped>\n",
       "    .dataframe tbody tr th:only-of-type {\n",
       "        vertical-align: middle;\n",
       "    }\n",
       "\n",
       "    .dataframe tbody tr th {\n",
       "        vertical-align: top;\n",
       "    }\n",
       "\n",
       "    .dataframe thead th {\n",
       "        text-align: right;\n",
       "    }\n",
       "</style>\n",
       "<table border=\"1\" class=\"dataframe\">\n",
       "  <thead>\n",
       "    <tr style=\"text-align: right;\">\n",
       "      <th></th>\n",
       "      <th>bowling_team</th>\n",
       "      <th>batsman</th>\n",
       "      <th>total_runs</th>\n",
       "    </tr>\n",
       "  </thead>\n",
       "  <tbody>\n",
       "    <tr>\n",
       "      <th>0</th>\n",
       "      <td>Chennai Super Kings</td>\n",
       "      <td>A Ashish Reddy</td>\n",
       "      <td>25</td>\n",
       "    </tr>\n",
       "    <tr>\n",
       "      <th>1</th>\n",
       "      <td>Chennai Super Kings</td>\n",
       "      <td>A Hales</td>\n",
       "      <td>9</td>\n",
       "    </tr>\n",
       "    <tr>\n",
       "      <th>2</th>\n",
       "      <td>Chennai Super Kings</td>\n",
       "      <td>A Kumble</td>\n",
       "      <td>6</td>\n",
       "    </tr>\n",
       "    <tr>\n",
       "      <th>3</th>\n",
       "      <td>Chennai Super Kings</td>\n",
       "      <td>A Mishra</td>\n",
       "      <td>64</td>\n",
       "    </tr>\n",
       "    <tr>\n",
       "      <th>4</th>\n",
       "      <td>Chennai Super Kings</td>\n",
       "      <td>A Mithun</td>\n",
       "      <td>8</td>\n",
       "    </tr>\n",
       "    <tr>\n",
       "      <th>...</th>\n",
       "      <td>...</td>\n",
       "      <td>...</td>\n",
       "      <td>...</td>\n",
       "    </tr>\n",
       "    <tr>\n",
       "      <th>3116</th>\n",
       "      <td>Sunrisers Hyderabad</td>\n",
       "      <td>Washington Sundar</td>\n",
       "      <td>5</td>\n",
       "    </tr>\n",
       "    <tr>\n",
       "      <th>3117</th>\n",
       "      <td>Sunrisers Hyderabad</td>\n",
       "      <td>YK Pathan</td>\n",
       "      <td>182</td>\n",
       "    </tr>\n",
       "    <tr>\n",
       "      <th>3118</th>\n",
       "      <td>Sunrisers Hyderabad</td>\n",
       "      <td>YS Chahal</td>\n",
       "      <td>11</td>\n",
       "    </tr>\n",
       "    <tr>\n",
       "      <th>3119</th>\n",
       "      <td>Sunrisers Hyderabad</td>\n",
       "      <td>Yuvraj Singh</td>\n",
       "      <td>66</td>\n",
       "    </tr>\n",
       "    <tr>\n",
       "      <th>3120</th>\n",
       "      <td>Sunrisers Hyderabad</td>\n",
       "      <td>Z Khan</td>\n",
       "      <td>2</td>\n",
       "    </tr>\n",
       "  </tbody>\n",
       "</table>\n",
       "<p>3121 rows × 3 columns</p>\n",
       "</div>"
      ],
      "text/plain": [
       "             bowling_team            batsman  total_runs\n",
       "0     Chennai Super Kings     A Ashish Reddy          25\n",
       "1     Chennai Super Kings            A Hales           9\n",
       "2     Chennai Super Kings           A Kumble           6\n",
       "3     Chennai Super Kings           A Mishra          64\n",
       "4     Chennai Super Kings           A Mithun           8\n",
       "...                   ...                ...         ...\n",
       "3116  Sunrisers Hyderabad  Washington Sundar           5\n",
       "3117  Sunrisers Hyderabad          YK Pathan         182\n",
       "3118  Sunrisers Hyderabad          YS Chahal          11\n",
       "3119  Sunrisers Hyderabad       Yuvraj Singh          66\n",
       "3120  Sunrisers Hyderabad             Z Khan           2\n",
       "\n",
       "[3121 rows x 3 columns]"
      ]
     },
     "execution_count": 90,
     "metadata": {},
     "output_type": "execute_result"
    }
   ],
   "source": [
    "batsmen=batsmen.groupby([\"bowling_team\",\"batsman\"])[\"batsman_runs\"].count().reset_index(name='total_runs')\n",
    "batsmen"
   ]
  },
  {
   "cell_type": "code",
   "execution_count": 94,
   "id": "fad0c342-a7bb-4975-b7f0-917f3f5da7a3",
   "metadata": {},
   "outputs": [],
   "source": [
    "batsmen=batsmen.sort_values('total_runs',ascending=False)\n"
   ]
  },
  {
   "cell_type": "code",
   "execution_count": 95,
   "id": "9fc3516c-5e52-481a-bca0-be3fdb46709a",
   "metadata": {},
   "outputs": [
    {
     "data": {
      "text/html": [
       "<div>\n",
       "<style scoped>\n",
       "    .dataframe tbody tr th:only-of-type {\n",
       "        vertical-align: middle;\n",
       "    }\n",
       "\n",
       "    .dataframe tbody tr th {\n",
       "        vertical-align: top;\n",
       "    }\n",
       "\n",
       "    .dataframe thead th {\n",
       "        text-align: right;\n",
       "    }\n",
       "</style>\n",
       "<table border=\"1\" class=\"dataframe\">\n",
       "  <thead>\n",
       "    <tr style=\"text-align: right;\">\n",
       "      <th></th>\n",
       "      <th>bowling_team</th>\n",
       "      <th>batsman</th>\n",
       "      <th>total_runs</th>\n",
       "    </tr>\n",
       "  </thead>\n",
       "  <tbody>\n",
       "    <tr>\n",
       "      <th>1589</th>\n",
       "      <td>Kolkata Knight Riders</td>\n",
       "      <td>RG Sharma</td>\n",
       "      <td>626</td>\n",
       "    </tr>\n",
       "    <tr>\n",
       "      <th>299</th>\n",
       "      <td>Chennai Super Kings</td>\n",
       "      <td>V Kohli</td>\n",
       "      <td>616</td>\n",
       "    </tr>\n",
       "    <tr>\n",
       "      <th>1085</th>\n",
       "      <td>Kings XI Punjab</td>\n",
       "      <td>G Gambhir</td>\n",
       "      <td>613</td>\n",
       "    </tr>\n",
       "    <tr>\n",
       "      <th>1618</th>\n",
       "      <td>Kolkata Knight Riders</td>\n",
       "      <td>SK Raina</td>\n",
       "      <td>613</td>\n",
       "    </tr>\n",
       "    <tr>\n",
       "      <th>1948</th>\n",
       "      <td>Mumbai Indians</td>\n",
       "      <td>SK Raina</td>\n",
       "      <td>608</td>\n",
       "    </tr>\n",
       "    <tr>\n",
       "      <th>...</th>\n",
       "      <td>...</td>\n",
       "      <td>...</td>\n",
       "      <td>...</td>\n",
       "    </tr>\n",
       "    <tr>\n",
       "      <th>397</th>\n",
       "      <td>Deccan Chargers</td>\n",
       "      <td>KP Appanna</td>\n",
       "      <td>1</td>\n",
       "    </tr>\n",
       "    <tr>\n",
       "      <th>3005</th>\n",
       "      <td>Sunrisers Hyderabad</td>\n",
       "      <td>M Ashwin</td>\n",
       "      <td>1</td>\n",
       "    </tr>\n",
       "    <tr>\n",
       "      <th>3010</th>\n",
       "      <td>Sunrisers Hyderabad</td>\n",
       "      <td>M Morkel</td>\n",
       "      <td>1</td>\n",
       "    </tr>\n",
       "    <tr>\n",
       "      <th>137</th>\n",
       "      <td>Chennai Super Kings</td>\n",
       "      <td>Kuldeep Yadav</td>\n",
       "      <td>1</td>\n",
       "    </tr>\n",
       "    <tr>\n",
       "      <th>1863</th>\n",
       "      <td>Mumbai Indians</td>\n",
       "      <td>Mohammad Asif</td>\n",
       "      <td>1</td>\n",
       "    </tr>\n",
       "  </tbody>\n",
       "</table>\n",
       "<p>3121 rows × 3 columns</p>\n",
       "</div>"
      ],
      "text/plain": [
       "               bowling_team        batsman  total_runs\n",
       "1589  Kolkata Knight Riders      RG Sharma         626\n",
       "299     Chennai Super Kings        V Kohli         616\n",
       "1085        Kings XI Punjab      G Gambhir         613\n",
       "1618  Kolkata Knight Riders       SK Raina         613\n",
       "1948         Mumbai Indians       SK Raina         608\n",
       "...                     ...            ...         ...\n",
       "397         Deccan Chargers     KP Appanna           1\n",
       "3005    Sunrisers Hyderabad       M Ashwin           1\n",
       "3010    Sunrisers Hyderabad       M Morkel           1\n",
       "137     Chennai Super Kings  Kuldeep Yadav           1\n",
       "1863         Mumbai Indians  Mohammad Asif           1\n",
       "\n",
       "[3121 rows x 3 columns]"
      ]
     },
     "execution_count": 95,
     "metadata": {},
     "output_type": "execute_result"
    }
   ],
   "source": [
    "batsmen"
   ]
  },
  {
   "cell_type": "code",
   "execution_count": 100,
   "id": "7364567d-3472-478f-b26a-3a8c5b0f6460",
   "metadata": {},
   "outputs": [],
   "source": [
    "top_batsmen=batsmen.iloc[:5,:]\n",
    "top_batsmen=top_batsmen.reset_index(drop=True)"
   ]
  },
  {
   "cell_type": "code",
   "execution_count": 101,
   "id": "f7f3d947-45f9-4e88-abb8-0c05f09e9ead",
   "metadata": {},
   "outputs": [
    {
     "data": {
      "text/html": [
       "<div>\n",
       "<style scoped>\n",
       "    .dataframe tbody tr th:only-of-type {\n",
       "        vertical-align: middle;\n",
       "    }\n",
       "\n",
       "    .dataframe tbody tr th {\n",
       "        vertical-align: top;\n",
       "    }\n",
       "\n",
       "    .dataframe thead th {\n",
       "        text-align: right;\n",
       "    }\n",
       "</style>\n",
       "<table border=\"1\" class=\"dataframe\">\n",
       "  <thead>\n",
       "    <tr style=\"text-align: right;\">\n",
       "      <th></th>\n",
       "      <th>bowling_team</th>\n",
       "      <th>batsman</th>\n",
       "      <th>total_runs</th>\n",
       "    </tr>\n",
       "  </thead>\n",
       "  <tbody>\n",
       "    <tr>\n",
       "      <th>0</th>\n",
       "      <td>Kolkata Knight Riders</td>\n",
       "      <td>RG Sharma</td>\n",
       "      <td>626</td>\n",
       "    </tr>\n",
       "    <tr>\n",
       "      <th>1</th>\n",
       "      <td>Chennai Super Kings</td>\n",
       "      <td>V Kohli</td>\n",
       "      <td>616</td>\n",
       "    </tr>\n",
       "    <tr>\n",
       "      <th>2</th>\n",
       "      <td>Kings XI Punjab</td>\n",
       "      <td>G Gambhir</td>\n",
       "      <td>613</td>\n",
       "    </tr>\n",
       "    <tr>\n",
       "      <th>3</th>\n",
       "      <td>Kolkata Knight Riders</td>\n",
       "      <td>SK Raina</td>\n",
       "      <td>613</td>\n",
       "    </tr>\n",
       "    <tr>\n",
       "      <th>4</th>\n",
       "      <td>Mumbai Indians</td>\n",
       "      <td>SK Raina</td>\n",
       "      <td>608</td>\n",
       "    </tr>\n",
       "  </tbody>\n",
       "</table>\n",
       "</div>"
      ],
      "text/plain": [
       "            bowling_team    batsman  total_runs\n",
       "0  Kolkata Knight Riders  RG Sharma         626\n",
       "1    Chennai Super Kings    V Kohli         616\n",
       "2        Kings XI Punjab  G Gambhir         613\n",
       "3  Kolkata Knight Riders   SK Raina         613\n",
       "4         Mumbai Indians   SK Raina         608"
      ]
     },
     "execution_count": 101,
     "metadata": {},
     "output_type": "execute_result"
    }
   ],
   "source": [
    "top_batsmen"
   ]
  },
  {
   "cell_type": "code",
   "execution_count": 152,
   "id": "3d99eb4e-6ac9-4407-b78d-8d4328b7308a",
   "metadata": {},
   "outputs": [
    {
     "data": {
      "text/html": [
       "<div>\n",
       "<style scoped>\n",
       "    .dataframe tbody tr th:only-of-type {\n",
       "        vertical-align: middle;\n",
       "    }\n",
       "\n",
       "    .dataframe tbody tr th {\n",
       "        vertical-align: top;\n",
       "    }\n",
       "\n",
       "    .dataframe thead th {\n",
       "        text-align: right;\n",
       "    }\n",
       "</style>\n",
       "<table border=\"1\" class=\"dataframe\">\n",
       "  <thead>\n",
       "    <tr style=\"text-align: right;\">\n",
       "      <th></th>\n",
       "      <th>bowling_team</th>\n",
       "      <th>batsman</th>\n",
       "      <th>total_runs</th>\n",
       "      <th>batsmanVSteam</th>\n",
       "    </tr>\n",
       "  </thead>\n",
       "  <tbody>\n",
       "    <tr>\n",
       "      <th>0</th>\n",
       "      <td>Kolkata Knight Riders</td>\n",
       "      <td>RG Sharma</td>\n",
       "      <td>626</td>\n",
       "      <td>RG Sharma VS KKR</td>\n",
       "    </tr>\n",
       "    <tr>\n",
       "      <th>1</th>\n",
       "      <td>Chennai Super Kings</td>\n",
       "      <td>V Kohli</td>\n",
       "      <td>616</td>\n",
       "      <td>V Kohli VS CSK</td>\n",
       "    </tr>\n",
       "    <tr>\n",
       "      <th>2</th>\n",
       "      <td>Kings XI Punjab</td>\n",
       "      <td>G Gambhir</td>\n",
       "      <td>613</td>\n",
       "      <td>G Gambhir VS PUNJAB</td>\n",
       "    </tr>\n",
       "    <tr>\n",
       "      <th>3</th>\n",
       "      <td>Kolkata Knight Riders</td>\n",
       "      <td>SK Raina</td>\n",
       "      <td>613</td>\n",
       "      <td>SK Raina VS KKR</td>\n",
       "    </tr>\n",
       "    <tr>\n",
       "      <th>4</th>\n",
       "      <td>Mumbai Indians</td>\n",
       "      <td>SK Raina</td>\n",
       "      <td>608</td>\n",
       "      <td>SK Raina VS MI</td>\n",
       "    </tr>\n",
       "  </tbody>\n",
       "</table>\n",
       "</div>"
      ],
      "text/plain": [
       "            bowling_team    batsman  total_runs        batsmanVSteam\n",
       "0  Kolkata Knight Riders  RG Sharma         626     RG Sharma VS KKR\n",
       "1    Chennai Super Kings    V Kohli         616       V Kohli VS CSK\n",
       "2        Kings XI Punjab  G Gambhir         613  G Gambhir VS PUNJAB\n",
       "3  Kolkata Knight Riders   SK Raina         613      SK Raina VS KKR\n",
       "4         Mumbai Indians   SK Raina         608       SK Raina VS MI"
      ]
     },
     "execution_count": 152,
     "metadata": {},
     "output_type": "execute_result"
    }
   ],
   "source": [
    "top_batsmen['batsmanVSteam']=top_batsmen[\"batsman\"] +\" VS \"+top_batsmen[\"bowling_team\"].replace({\"Kolkata Knight Riders\":\"KKR\",\"Chennai Super Kings\":\"CSK\",\"Kings XI Punjab\":\"PUNJAB\",\"Mumbai Indians\":\"MI\"})\n",
    "top_batsmen"
   ]
  },
  {
   "cell_type": "code",
   "execution_count": 168,
   "id": "4d29765b-9b8e-4793-b215-27068d7d977c",
   "metadata": {},
   "outputs": [
    {
     "data": {
      "image/png": "[encoded data removed]",
      "text/plain": [
       "<Figure size 800x500 with 1 Axes>"
      ]
     },
     "metadata": {},
     "output_type": "display_data"
    }
   ],
   "source": [
    "#plot\n",
    "sns.set_style(\"ticks\")\n",
    "plt.figure(figsize=(8,5))\n",
    "colors=sns.color_palette(\"Set3\",n_colors=len(top_batsmen['batsmanVSteam']))\n",
    "sns.barplot(x=\"total_runs\",y='batsmanVSteam',data=top_batsmen,palette=colors,hue='batsmanVSteam',edgecolor='black')\n",
    "for i in range(len(top_batsmen['batsman'])):\n",
    "    plt.text(top_batsmen[\"total_runs\"].iloc[i]-35,i,f\"{top_batsmen['total_runs'].iloc[i]}\",fontweight=800)\n",
    "\n",
    "plt.title(\"Top performing batsmen against specific teams\",fontsize=18,fontweight=800,pad=10)\n",
    "plt.xlabel(\"Total_runs\",fontweight=800,fontsize=12)\n",
    "plt.ylabel(\"Batsman\",fontweight=800,fontsize=12)\n",
    "plt.xticks(fontweight=600)\n",
    "plt.yticks(fontweight=600)\n",
    "plt.tight_layout()\n",
    "plt.savefig(\"plots/batsmen_against_specific_team.jpg\")"
   ]
  },
  {
   "cell_type": "code",
   "execution_count": null,
   "id": "3db8f26c-2bca-4655-a2f9-1978679e78c5",
   "metadata": {},
   "outputs": [],
   "source": [
    "### "
   ]
  }
 ],
 "metadata": {
  "kernelspec": {
   "display_name": "Python 3 (ipykernel)",
   "language": "python",
   "name": "python3"
  },
  "language_info": {
   "codemirror_mode": {
    "name": "ipython",
    "version": 3
   },
   "file_extension": ".py",
   "mimetype": "text/x-python",
   "name": "python",
   "nbconvert_exporter": "python",
   "pygments_lexer": "ipython3",
   "version": "3.13.5"
  }
 },
 "nbformat": 4,
 "nbformat_minor": 5
}
